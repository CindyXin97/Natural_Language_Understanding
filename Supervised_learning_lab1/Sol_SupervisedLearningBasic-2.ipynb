{
  "nbformat": 4,
  "nbformat_minor": 0,
  "metadata": {
    "colab": {
      "name": "Sol_SupervisedLearningBasic.ipynb",
      "provenance": [],
      "collapsed_sections": []
    },
    "kernelspec": {
      "name": "python3",
      "display_name": "Python 3"
    }
  },
  "cells": [
    {
      "cell_type": "markdown",
      "metadata": {
        "id": "5Ih1js7a6eGZ",
        "colab_type": "text"
      },
      "source": [
        "# Supervised Learning\n",
        "\n",
        "In this lab, you will build a simple text classifier to predict whether a movie review has positive or negative sentiment. You will learn to use a count-based bag-of-words model and logistic regression from `sklearn` library to do this.\n",
        "We will use [IMDB movie review dataset](https://ai.stanford.edu/~amaas/data/sentiment/).\n",
        "\n",
        "# Download data\n",
        "First, let's download the data. Run the following commands to download and unzip the data.\n",
        "\n"
      ]
    },
    {
      "cell_type": "code",
      "metadata": {
        "id": "NZt6mNSrTx8_",
        "colab_type": "code",
        "outputId": "9c01fd50-6020-4cdf-daff-b755c7624c1a",
        "colab": {
          "base_uri": "https://localhost:8080/",
          "height": 204
        }
      },
      "source": [
        "!wget https://ai.stanford.edu/~amaas/data/sentiment/aclImdb_v1.tar.gz\n",
        "!tar -xzf aclImdb_v1.tar.gz"
      ],
      "execution_count": 0,
      "outputs": [
        {
          "output_type": "stream",
          "text": [
            "--2020-01-29 19:09:54--  https://ai.stanford.edu/~amaas/data/sentiment/aclImdb_v1.tar.gz\n",
            "Resolving ai.stanford.edu (ai.stanford.edu)... 171.64.68.10\n",
            "Connecting to ai.stanford.edu (ai.stanford.edu)|171.64.68.10|:443... connected.\n",
            "HTTP request sent, awaiting response... 200 OK\n",
            "Length: 84125825 (80M) [application/x-gzip]\n",
            "Saving to: ‘aclImdb_v1.tar.gz.3’\n",
            "\n",
            "aclImdb_v1.tar.gz.3 100%[===================>]  80.23M  17.8MB/s    in 11s     \n",
            "\n",
            "2020-01-29 19:10:05 (7.61 MB/s) - ‘aclImdb_v1.tar.gz.3’ saved [84125825/84125825]\n",
            "\n"
          ],
          "name": "stdout"
        }
      ]
    },
    {
      "cell_type": "markdown",
      "metadata": {
        "id": "oKbYlhYTasks",
        "colab_type": "text"
      },
      "source": [
        "The downloaded IMDB dataset should now be under `/content/` folder."
      ]
    },
    {
      "cell_type": "code",
      "metadata": {
        "id": "6alsZG5ebD2K",
        "colab_type": "code",
        "outputId": "0f5675e8-a2ba-4c5a-cd09-395f7d4e7a86",
        "colab": {
          "base_uri": "https://localhost:8080/",
          "height": 34
        }
      },
      "source": [
        "!ls /content/aclImdb/"
      ],
      "execution_count": 0,
      "outputs": [
        {
          "output_type": "stream",
          "text": [
            "imdbEr.txt  imdb.vocab\tREADME\ttest  train\n"
          ],
          "name": "stdout"
        }
      ]
    },
    {
      "cell_type": "code",
      "metadata": {
        "id": "d2g2m0vAVE2-",
        "colab_type": "code",
        "colab": {}
      },
      "source": [
        "import os\n",
        "import numpy as np"
      ],
      "execution_count": 0,
      "outputs": []
    },
    {
      "cell_type": "markdown",
      "metadata": {
        "id": "dQlVF7PxcNED",
        "colab_type": "text"
      },
      "source": [
        "## Preprocess and load the data\n",
        "\n",
        "Here, we will load the data and preprocess it. We will extract features from our data and transform the features into vector (or matrix) form."
      ]
    },
    {
      "cell_type": "code",
      "metadata": {
        "id": "r5X5z_WUUb4-",
        "colab_type": "code",
        "colab": {}
      },
      "source": [
        "def preprocess_text(text):\n",
        "    \"\"\"\n",
        "    Function that preprocesses the string\n",
        "    \"\"\"\n",
        "    preprocessed_text = text.lower().replace(\"<br />\", \"\")\n",
        "    return preprocessed_text\n",
        "        \n",
        "    \n",
        "def read_file(file_name, label):\n",
        "    \"\"\"\n",
        "    Function that reads a file \n",
        "    and return the raw text, preprocessed text, and label\n",
        "    \"\"\"\n",
        "    with open(file_name, \"r\") as f:\n",
        "        raw_text = f.read()\n",
        "        preprocessed_text = preprocess_text(raw_text)\n",
        "    return raw_text, preprocessed_text, label\n",
        "\n",
        "def construct_dataset(dataset_dir):\n",
        "    \"\"\"\n",
        "    Function that loads a dataset\n",
        "    @param offset: skip first offset items in this dir\n",
        "    \"\"\"\n",
        "    pos_dir = os.path.join(dataset_dir, \"pos\")\n",
        "    neg_dir = os.path.join(dataset_dir, \"neg\")\n",
        "    dir_list = [neg_dir, pos_dir]\n",
        "    raw_contents, contents, labels = [], [], []\n",
        "    all_pos = os.listdir(pos_dir)\n",
        "    all_neg = os.listdir(neg_dir)\n",
        "    data_size = len(all_neg)\n",
        "    for i in range(data_size):\n",
        "        for lbl, dataset in enumerate([all_neg, all_pos]):\n",
        "          raw_content, content, label = read_file(os.path.join(dir_list[lbl], dataset[i]), lbl)\n",
        "          contents.append(content)\n",
        "          raw_contents.append(raw_content)\n",
        "          labels.append(label)\n",
        "\n",
        "    return raw_contents, contents, labels"
      ],
      "execution_count": 0,
      "outputs": []
    },
    {
      "cell_type": "code",
      "metadata": {
        "id": "pggevIl-VS3F",
        "colab_type": "code",
        "colab": {}
      },
      "source": [
        "path = \"/content/aclImdb/\"\n",
        "train_dir = os.path.join(path, \"train\")\n",
        "test_dir = os.path.join(path, \"test\")\n",
        "sentiments = [\"Negative\", \"Positive\"]"
      ],
      "execution_count": 0,
      "outputs": []
    },
    {
      "cell_type": "markdown",
      "metadata": {
        "id": "e4xuitXdSmVs",
        "colab_type": "text"
      },
      "source": [
        "The dataset is already split into trainin and test set.\n",
        "However, we should not touch the test data during initial model hyperparameter tuning and model selection stage. \n",
        "Let's split the given train data into training set and validation set."
      ]
    },
    {
      "cell_type": "code",
      "metadata": {
        "id": "TTVGg9QGVLhA",
        "colab_type": "code",
        "colab": {}
      },
      "source": [
        "test_raw_contents, test_contents, test_labels = construct_dataset(test_dir)\n",
        "raw_contents, contents, labels = construct_dataset(train_dir)\n",
        "\n",
        "train_split = int(len(raw_contents)*0.8)\n",
        "train_raw_contents, train_contents, train_labels = raw_contents[:train_split], contents[:train_split], labels[:train_split]\n",
        "val_raw_contents, val_contents, val_labels = raw_contents[train_split:], contents[train_split:], labels[train_split:]\n",
        "# TODO: split data from train_dir into train, and validation set\n",
        "# train_raw_contents, train_contents, train_labels = ?\n",
        "# val_raw_contents, val_contents, val_labels = ?"
      ],
      "execution_count": 0,
      "outputs": []
    },
    {
      "cell_type": "code",
      "metadata": {
        "id": "L6cRAxW9Vvf_",
        "colab_type": "code",
        "outputId": "00191095-67cc-4e30-ea62-5b4be2a3aae2",
        "colab": {
          "base_uri": "https://localhost:8080/",
          "height": 71
        }
      },
      "source": [
        "print(\"Review: \", train_raw_contents[0])\n",
        "print(\"Sentiment: \", sentiments[train_labels[0]])"
      ],
      "execution_count": 0,
      "outputs": [
        {
          "output_type": "stream",
          "text": [
            "Review:  I think that if I went to a first school somewhere deep in the countryside and asked the bottom set of English to come up with a script, it would make more sense than this. I could then go to the first year drama group and they would act it out better than the jokers in this film. This sounds really mean, but I'm certain that they made this as a joke and are entirely aware that they possess (see what I did there?) neither the skills to act or to write anything, ever.<br /><br />Watch this only if you're incredibly drunk, high or in need of a good excuse as to why your decaying corpse was found with slit wrists. I will now go to my fish bowl and collect all of the poo at the bottom. After that, I will mould it into the shape of a disc and put it into my DVD player, fully expecting it to produce something far better than this trumpery.<br /><br />Acting - 0/10 Plot - LOL/10 Breasts - 9/10\n",
            "Sentiment:  Negative\n"
          ],
          "name": "stdout"
        }
      ]
    },
    {
      "cell_type": "markdown",
      "metadata": {
        "id": "7ku2qz4jdu7V",
        "colab_type": "text"
      },
      "source": [
        "# Bag of words\n",
        "Our training data is in text format, but for feeding it as input to a machine learning model, we need to transform the text into numbers.\n",
        "\n",
        "To do this is to represent each example in the data as a vector of word counts.\n",
        "\n",
        "For example:  \n",
        "X = ['NLP is fun', 'NYU is fun'] \n",
        "\n",
        "features = ['NLP', 'is', 'fun', 'NYU']  \n",
        "\n",
        "Vectorized_X:  \n",
        "[ [1 1 1 0]   \n",
        "  [0 1 1 1 ]  ]\n",
        "\n"
      ]
    },
    {
      "cell_type": "markdown",
      "metadata": {
        "id": "C9eSLoKNiCOl",
        "colab_type": "text"
      },
      "source": [
        "Using `sklearn.feature_extraction.text.CountVectorizer`, we will construct a `CountVectorizer` class that extract features from training data using the most frequent words in the training data.\n",
        "\n",
        "We will then transform the text data into BoW vector representations using the `transform` function of the `CountVectorizer` --- each row of the input matrix (vector) corresponds to an example in the dataset, each column corresponds to a word, and each entry corresponds to the number of times that word appears in the corresponding example.\n"
      ]
    },
    {
      "cell_type": "code",
      "metadata": {
        "id": "s3OFPIL-Q2IN",
        "colab_type": "code",
        "colab": {}
      },
      "source": [
        "import numpy as np\n",
        "from sklearn.feature_extraction.text import CountVectorizer\n",
        "\n",
        "# TODO: YOUR CODE HERE\n",
        "vectorizer = CountVectorizer(max_features=2000)\n",
        "vectorizer.fit(train_contents)\n",
        "X_train = vectorizer.transform(train_contents)\n",
        "X_val = vectorizer.transform(val_contents)\n",
        "X_test = vectorizer.transform(test_contents)\n",
        "\n",
        "y_train = np.array(train_labels)\n",
        "y_val = np.array(val_labels)\n",
        "y_test = np.array(test_labels)\n",
        "vocab = vectorizer.get_feature_names()\n"
      ],
      "execution_count": 0,
      "outputs": []
    },
    {
      "cell_type": "markdown",
      "metadata": {
        "id": "3jTpServjn_J",
        "colab_type": "text"
      },
      "source": [
        "# Logistic Regression\n",
        "\n",
        "Now, we will train a logistic regression classifier on our data. \n"
      ]
    },
    {
      "cell_type": "code",
      "metadata": {
        "id": "_QnPQ5uoXk-R",
        "colab_type": "code",
        "colab": {}
      },
      "source": [
        "from sklearn.linear_model import LogisticRegression\n",
        "\n",
        "# Define Logistic Regression model\n",
        "model = LogisticRegression(random_state=0, solver='liblinear')\n",
        "\n",
        "# Fit the model to training data\n",
        "model.fit(X_train, y_train)\n",
        "\n",
        "# make prediction using the trained model\n",
        "y_train_pred = model.predict(X_train)\n",
        "y_val_pred = model.predict(X_val)"
      ],
      "execution_count": 0,
      "outputs": []
    },
    {
      "cell_type": "markdown",
      "metadata": {
        "id": "Xu7UGyyrlTi5",
        "colab_type": "text"
      },
      "source": [
        "Report the accuracy of the model on training and validation set.  \n",
        "Hint: `sklearn.metrics.accuracy_score`"
      ]
    },
    {
      "cell_type": "code",
      "metadata": {
        "id": "1pHXA_tgYk0s",
        "colab_type": "code",
        "outputId": "d93986ad-4925-4bbb-8302-35f67ebe00a5",
        "colab": {
          "base_uri": "https://localhost:8080/",
          "height": 51
        }
      },
      "source": [
        "# TODO: YOUR CODE HERE\n",
        "from sklearn.metrics import f1_score, accuracy_score\n",
        "train_accuracy = accuracy_score(y_train, y_train_pred)\n",
        "val_accuracy = accuracy_score(y_val, y_val_pred)\n",
        "\n",
        "print(\"Training accuracy:\", train_accuracy)\n",
        "print(\"Validation accuracy:\", val_accuracy) "
      ],
      "execution_count": 0,
      "outputs": [
        {
          "output_type": "stream",
          "text": [
            "Training accuracy: 0.91555\n",
            "Validation accuracy: 0.8608\n"
          ],
          "name": "stdout"
        }
      ]
    },
    {
      "cell_type": "markdown",
      "metadata": {
        "id": "-Rs4ulZfpqvi",
        "colab_type": "text"
      },
      "source": [
        "Let's check prediction of the model on a random example in validation set."
      ]
    },
    {
      "cell_type": "code",
      "metadata": {
        "id": "xPv7znJ5oMUe",
        "colab_type": "code",
        "outputId": "7c3617fb-4edd-488c-fcd6-de190dc5e24d",
        "colab": {
          "base_uri": "https://localhost:8080/",
          "height": 88
        }
      },
      "source": [
        "import random\n",
        "j = random.randint(0,len(y_val))\n",
        "print(\"True label: \", sentiments[y_val[j]])\n",
        "print(\"Prediction: \" , sentiments[y_val_pred[j]])\n",
        "print(val_raw_contents[j].strip())"
      ],
      "execution_count": 0,
      "outputs": [
        {
          "output_type": "stream",
          "text": [
            "True label:  Negative\n",
            "Prediction:  Negative\n",
            "I watched this movie with some friends a couple months ago, I still laugh today thinking about some of the utter stupidity. The first few scenes alone were hilarious. I won't spoil anything for those who wish to see it, I wouldn't want to ruin the laughs. Needless to say the entire time I watched this movie I was trying to figure out exactly what the point of anything the characters in this movie were doing. Towards the end we all got bored however, as the initial hilarity and shock of a movie being this random wore off. There is no plot and not a trace of decent acting. The characters are about as well developed as those in a kindergarten \"Learn to Read\" book. They even managed to make a lesbian sex scene uninteresting.\n"
          ],
          "name": "stdout"
        }
      ]
    },
    {
      "cell_type": "markdown",
      "metadata": {
        "id": "Buk1sX_1p8F4",
        "colab_type": "text"
      },
      "source": [
        "Finally, we can check the coefficients, or learned weights, of each word feature to understand which features are generally associated with positive or negative sentiment."
      ]
    },
    {
      "cell_type": "code",
      "metadata": {
        "id": "yT5hWoqFp2XG",
        "colab_type": "code",
        "outputId": "9e3878e9-745a-4b0f-c81f-77b55d379b53",
        "colab": {
          "base_uri": "https://localhost:8080/",
          "height": 408
        }
      },
      "source": [
        "coefficients = model.coef_[0]\n",
        "indices = np.argsort(coefficients) \n",
        "# Most negatively weighted\n",
        "print(\"Words associated with negative sentiment\")\n",
        "for i in indices[:10]:\n",
        "  print(vocab[i], coefficients[i])\n",
        "print()\n",
        "# Most positively weighted\n",
        "print(\"Words associated with positive sentiment\")\n",
        "for i in indices[-10:]: \n",
        "  print(vocab[i], coefficients[i])"
      ],
      "execution_count": 0,
      "outputs": [
        {
          "output_type": "stream",
          "text": [
            "Words associated with negative sentiment\n",
            "lacks -2.0587767931179948\n",
            "waste -2.052424996665995\n",
            "disappointment -1.8084120461958595\n",
            "poorly -1.7103607133343526\n",
            "unfunny -1.6936273030999842\n",
            "worst -1.6671484699776637\n",
            "redeeming -1.466246995576819\n",
            "screaming -1.4534840081399665\n",
            "pointless -1.383302225300053\n",
            "awful -1.3802133553759586\n",
            "\n",
            "Words associated with positive sentiment\n",
            "friendship 1.0489939050741481\n",
            "delightful 1.0805529952476736\n",
            "innocent 1.0806707041479653\n",
            "excellent 1.0964168048556582\n",
            "rare 1.1768397751707411\n",
            "perfect 1.1878206235898112\n",
            "subtle 1.2792224945470911\n",
            "funniest 1.4502362508536792\n",
            "surprisingly 1.4818219877439873\n",
            "wonderfully 1.7674122824297744\n"
          ],
          "name": "stdout"
        }
      ]
    },
    {
      "cell_type": "markdown",
      "metadata": {
        "id": "Y1VwkfkWoC_G",
        "colab_type": "text"
      },
      "source": [
        "### How performance depends on size of train data? Learning curve.\n",
        "\n",
        "Let's explore how train, val performance changes depending on how much data the model uses for training.\n",
        "\n",
        "Your task is to train the model on train subsets of different sizes (randomly pick `n` reviews from train), calculate train and val accuracies in each case and plot the results (with train size on x axis, accuracy on y axis) -- there will be two curves, for train and for val. This graph is called Learning curve."
      ]
    },
    {
      "cell_type": "code",
      "metadata": {
        "id": "9Q2xbGIFoCW0",
        "colab_type": "code",
        "colab": {}
      },
      "source": [
        "train_sizes = np.arange(1000, len(y_train), 1000)\n",
        "scores_train = []\n",
        "scores_val = []\n",
        "\n",
        "for train_size in train_sizes:\n",
        "    \"\"\"\n",
        "    TODO: YOUR CODE GOES HERE\n",
        "    \"\"\"\n",
        "    idces = np.random.randint(len(y_train), size=train_size)\n",
        "    X_train_subset = X_train[idces, :]\n",
        "    y_train_subset = y_train[idces]\n",
        "    # Define Logistic Regression model\n",
        "    model = LogisticRegression(random_state=0, solver='liblinear')\n",
        "\n",
        "    # Fit the model to training data\n",
        "    model.fit(X_train_subset, y_train_subset)\n",
        "\n",
        "    # Make prediction using the trained model\n",
        "    y_train_subset_pred = model.predict(X_train_subset)\n",
        "    y_val_pred = model.predict(X_val)\n",
        "\n",
        "    scores_train.append(accuracy_score(y_train_subset, y_train_subset_pred))\n",
        "    scores_val.append(accuracy_score(y_val, y_val_pred))"
      ],
      "execution_count": 0,
      "outputs": []
    },
    {
      "cell_type": "code",
      "metadata": {
        "id": "goxAn17ioctJ",
        "colab_type": "code",
        "outputId": "10c95885-c324-4075-d730-a34ae92ea9cd",
        "colab": {
          "base_uri": "https://localhost:8080/",
          "height": 295
        }
      },
      "source": [
        "import matplotlib.pyplot as plt\n",
        "\n",
        "plt.plot(train_sizes, scores_train, label=\"train\")\n",
        "plt.plot(train_sizes, scores_val, label=\"val\")\n",
        "plt.title(\"Learning curve\")\n",
        "plt.xlabel(\"Train size\")\n",
        "plt.ylabel(\"Accuracy\")\n",
        "plt.legend()\n",
        "plt.grid()\n",
        "plt.show()"
      ],
      "execution_count": 0,
      "outputs": [
        {
          "output_type": "display_data",
          "data": {
            "image/png": "[encoded data removed]",
            "text/plain": [
              "<Figure size 432x288 with 1 Axes>"
            ]
          },
          "metadata": {
            "tags": []
          }
        }
      ]
    },
    {
      "cell_type": "markdown",
      "metadata": {
        "id": "gfsEada_QB67",
        "colab_type": "text"
      },
      "source": [
        "# Hyperparameter Tuning & Model Selection\n",
        "There are hyperparameters -- the model configuration whose value is set before learning process -- associated with each model design. \n",
        "For example, in `vectorizer = CountVectorizer(max_features=2000)`, `max_features=2000` is a hyperparameter.\n",
        "\n",
        "We train the models with different hyperparameters and select the model that has the best validation performance as the best model. And, we report the performance of that best model on the test data as our final test score. \n",
        "(You should **never** use test data for hyperparameter tuning and model selection).\n",
        "\n",
        "Now, try tuning the hyperparameters of the model using validation set and report the test accuracy of the best model!\n"
      ]
    },
    {
      "cell_type": "markdown",
      "metadata": {
        "id": "IwzedmZ_G144",
        "colab_type": "text"
      },
      "source": [
        "### How performance depends on the number of features?  \n",
        "Similar to the previous section, explore how val performance changes depending on different sizes of `max_features`."
      ]
    },
    {
      "cell_type": "code",
      "metadata": {
        "id": "9nTth4WTKu4I",
        "colab_type": "code",
        "colab": {}
      },
      "source": [
        "max_feature_sizes = np.arange(100, 2000, 200)\n",
        "scores_train = []\n",
        "scores_val = []\n",
        "\n",
        "for max_feature in max_feature_sizes:\n",
        "    \"\"\"\n",
        "    TODO: YOUR CODE GOES HERE\n",
        "    \"\"\"\n",
        "    vect = CountVectorizer(max_features=max_feature)\n",
        "    vect.fit(train_contents)\n",
        "    X_train_vect  = vectorizer.transform(train_contents)\n",
        "    X_val_vect = vectorizer.transform(val_contents)\n",
        "    \n",
        "    # Define Logistic Regression model\n",
        "    model = LogisticRegression(random_state=0, solver='liblinear')\n",
        "\n",
        "    # Fit the model to training data\n",
        "    model.fit(X_train_vect, y_train)\n",
        "\n",
        "    # Make prediction using the trained model\n",
        "    y_train_pred = model.predict(X_train_vect)\n",
        "    y_val_pred = model.predict(X_val_vect)\n",
        "\n",
        "    scores_train.append(accuracy_score(y_train_subset, y_train_subset_pred))\n",
        "    scores_val.append(accuracy_score(y_val, y_val_pred))"
      ],
      "execution_count": 0,
      "outputs": []
    },
    {
      "cell_type": "code",
      "metadata": {
        "id": "sKjpHeKCOtvA",
        "colab_type": "code",
        "outputId": "4a4d3f16-3408-452b-9aeb-617d9ca38d61",
        "colab": {
          "base_uri": "https://localhost:8080/",
          "height": 295
        }
      },
      "source": [
        "plt.plot(max_feature_sizes, scores_train, label=\"train\")\n",
        "plt.plot(max_feature_sizes, scores_val, label=\"val\")\n",
        "plt.title(\"Learning curve\")\n",
        "plt.xlabel(\"Train size\")\n",
        "plt.ylabel(\"Accuracy\")\n",
        "plt.legend()\n",
        "plt.grid()\n",
        "plt.show()"
      ],
      "execution_count": 0,
      "outputs": [
        {
          "output_type": "display_data",
          "data": {
            "image/png": "[encoded data removed]",
            "text/plain": [
              "<Figure size 432x288 with 1 Axes>"
            ]
          },
          "metadata": {
            "tags": []
          }
        }
      ]
    }
  ]
}