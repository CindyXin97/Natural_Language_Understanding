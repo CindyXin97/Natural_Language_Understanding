{
  "nbformat": 4,
  "nbformat_minor": 0,
  "metadata": {
    "kernelspec": {
      "name": "python3",
      "display_name": "Python 3"
    },
    "language_info": {
      "codemirror_mode": {
        "name": "ipython",
        "version": 3
      },
      "file_extension": ".py",
      "mimetype": "text/x-python",
      "name": "python",
      "nbconvert_exporter": "python",
      "pygments_lexer": "ipython3",
      "version": "3.7.4"
    },
    "colab": {
      "name": "Lab2 - Solution.ipynb",
      "provenance": [],
      "collapsed_sections": []
    },
    "accelerator": "GPU",
    "widgets": {
      "application/vnd.jupyter.widget-state+json": {
        "1e2c8da782a44c089bf0cd048af0aadf": {
          "model_module": "@jupyter-widgets/controls",
          "model_name": "HBoxModel",
          "state": {
            "_view_name": "HBoxView",
            "_dom_classes": [],
            "_model_name": "HBoxModel",
            "_view_module": "@jupyter-widgets/controls",
            "_model_module_version": "1.5.0",
            "_view_count": null,
            "_view_module_version": "1.5.0",
            "box_style": "",
            "layout": "IPY_MODEL_b0c1066c87704e688d5b43da0080aa9e",
            "_model_module": "@jupyter-widgets/controls",
            "children": [
              "IPY_MODEL_a9b9e6cbd2cb402e82c5e346e2c66c26",
              "IPY_MODEL_9a8fbe76eaa2486a8e17096824c3ac0e"
            ]
          }
        },
        "b0c1066c87704e688d5b43da0080aa9e": {
          "model_module": "@jupyter-widgets/base",
          "model_name": "LayoutModel",
          "state": {
            "_view_name": "LayoutView",
            "grid_template_rows": null,
            "right": null,
            "justify_content": null,
            "_view_module": "@jupyter-widgets/base",
            "overflow": null,
            "_model_module_version": "1.2.0",
            "_view_count": null,
            "flex_flow": null,
            "width": null,
            "min_width": null,
            "border": null,
            "align_items": null,
            "bottom": null,
            "_model_module": "@jupyter-widgets/base",
            "top": null,
            "grid_column": null,
            "overflow_y": null,
            "overflow_x": null,
            "grid_auto_flow": null,
            "grid_area": null,
            "grid_template_columns": null,
            "flex": null,
            "_model_name": "LayoutModel",
            "justify_items": null,
            "grid_row": null,
            "max_height": null,
            "align_content": null,
            "visibility": null,
            "align_self": null,
            "height": null,
            "min_height": null,
            "padding": null,
            "grid_auto_rows": null,
            "grid_gap": null,
            "max_width": null,
            "order": null,
            "_view_module_version": "1.2.0",
            "grid_template_areas": null,
            "object_position": null,
            "object_fit": null,
            "grid_auto_columns": null,
            "margin": null,
            "display": null,
            "left": null
          }
        },
        "a9b9e6cbd2cb402e82c5e346e2c66c26": {
          "model_module": "@jupyter-widgets/controls",
          "model_name": "IntProgressModel",
          "state": {
            "_view_name": "ProgressView",
            "style": "IPY_MODEL_c60929e70301493cab1e9facf708cd72",
            "_dom_classes": [],
            "description": "",
            "_model_name": "IntProgressModel",
            "bar_style": "success",
            "max": 10000,
            "_view_module": "@jupyter-widgets/controls",
            "_model_module_version": "1.5.0",
            "value": 10000,
            "_view_count": null,
            "_view_module_version": "1.5.0",
            "orientation": "horizontal",
            "min": 0,
            "description_tooltip": null,
            "_model_module": "@jupyter-widgets/controls",
            "layout": "IPY_MODEL_4c7d9ee782624f21b9a04cd30a413226"
          }
        },
        "9a8fbe76eaa2486a8e17096824c3ac0e": {
          "model_module": "@jupyter-widgets/controls",
          "model_name": "HTMLModel",
          "state": {
            "_view_name": "HTMLView",
            "style": "IPY_MODEL_8741ebdcac1f4600ad3646b72686f8d1",
            "_dom_classes": [],
            "description": "",
            "_model_name": "HTMLModel",
            "placeholder": "​",
            "_view_module": "@jupyter-widgets/controls",
            "_model_module_version": "1.5.0",
            "value": "100% 10000/10000 [00:19&lt;00:00, 513.98it/s]",
            "_view_count": null,
            "_view_module_version": "1.5.0",
            "description_tooltip": null,
            "_model_module": "@jupyter-widgets/controls",
            "layout": "IPY_MODEL_0e60683841e246718e234d6976c75050"
          }
        },
        "c60929e70301493cab1e9facf708cd72": {
          "model_module": "@jupyter-widgets/controls",
          "model_name": "ProgressStyleModel",
          "state": {
            "_view_name": "StyleView",
            "_model_name": "ProgressStyleModel",
            "description_width": "",
            "_view_module": "@jupyter-widgets/base",
            "_model_module_version": "1.5.0",
            "_view_count": null,
            "_view_module_version": "1.2.0",
            "bar_color": null,
            "_model_module": "@jupyter-widgets/controls"
          }
        },
        "4c7d9ee782624f21b9a04cd30a413226": {
          "model_module": "@jupyter-widgets/base",
          "model_name": "LayoutModel",
          "state": {
            "_view_name": "LayoutView",
            "grid_template_rows": null,
            "right": null,
            "justify_content": null,
            "_view_module": "@jupyter-widgets/base",
            "overflow": null,
            "_model_module_version": "1.2.0",
            "_view_count": null,
            "flex_flow": null,
            "width": null,
            "min_width": null,
            "border": null,
            "align_items": null,
            "bottom": null,
            "_model_module": "@jupyter-widgets/base",
            "top": null,
            "grid_column": null,
            "overflow_y": null,
            "overflow_x": null,
            "grid_auto_flow": null,
            "grid_area": null,
            "grid_template_columns": null,
            "flex": null,
            "_model_name": "LayoutModel",
            "justify_items": null,
            "grid_row": null,
            "max_height": null,
            "align_content": null,
            "visibility": null,
            "align_self": null,
            "height": null,
            "min_height": null,
            "padding": null,
            "grid_auto_rows": null,
            "grid_gap": null,
            "max_width": null,
            "order": null,
            "_view_module_version": "1.2.0",
            "grid_template_areas": null,
            "object_position": null,
            "object_fit": null,
            "grid_auto_columns": null,
            "margin": null,
            "display": null,
            "left": null
          }
        },
        "8741ebdcac1f4600ad3646b72686f8d1": {
          "model_module": "@jupyter-widgets/controls",
          "model_name": "DescriptionStyleModel",
          "state": {
            "_view_name": "StyleView",
            "_model_name": "DescriptionStyleModel",
            "description_width": "",
            "_view_module": "@jupyter-widgets/base",
            "_model_module_version": "1.5.0",
            "_view_count": null,
            "_view_module_version": "1.2.0",
            "_model_module": "@jupyter-widgets/controls"
          }
        },
        "0e60683841e246718e234d6976c75050": {
          "model_module": "@jupyter-widgets/base",
          "model_name": "LayoutModel",
          "state": {
            "_view_name": "LayoutView",
            "grid_template_rows": null,
            "right": null,
            "justify_content": null,
            "_view_module": "@jupyter-widgets/base",
            "overflow": null,
            "_model_module_version": "1.2.0",
            "_view_count": null,
            "flex_flow": null,
            "width": null,
            "min_width": null,
            "border": null,
            "align_items": null,
            "bottom": null,
            "_model_module": "@jupyter-widgets/base",
            "top": null,
            "grid_column": null,
            "overflow_y": null,
            "overflow_x": null,
            "grid_auto_flow": null,
            "grid_area": null,
            "grid_template_columns": null,
            "flex": null,
            "_model_name": "LayoutModel",
            "justify_items": null,
            "grid_row": null,
            "max_height": null,
            "align_content": null,
            "visibility": null,
            "align_self": null,
            "height": null,
            "min_height": null,
            "padding": null,
            "grid_auto_rows": null,
            "grid_gap": null,
            "max_width": null,
            "order": null,
            "_view_module_version": "1.2.0",
            "grid_template_areas": null,
            "object_position": null,
            "object_fit": null,
            "grid_auto_columns": null,
            "margin": null,
            "display": null,
            "left": null
          }
        },
        "dfdf7fd75f3f452aba4df80f1def1a5c": {
          "model_module": "@jupyter-widgets/controls",
          "model_name": "HBoxModel",
          "state": {
            "_view_name": "HBoxView",
            "_dom_classes": [],
            "_model_name": "HBoxModel",
            "_view_module": "@jupyter-widgets/controls",
            "_model_module_version": "1.5.0",
            "_view_count": null,
            "_view_module_version": "1.5.0",
            "box_style": "",
            "layout": "IPY_MODEL_307ce7d1be704e37a458993cabf5959c",
            "_model_module": "@jupyter-widgets/controls",
            "children": [
              "IPY_MODEL_17aaba3ee179485cbecb83f335034dc7",
              "IPY_MODEL_9f1fea91137c45638a64eb1f579c537c"
            ]
          }
        },
        "307ce7d1be704e37a458993cabf5959c": {
          "model_module": "@jupyter-widgets/base",
          "model_name": "LayoutModel",
          "state": {
            "_view_name": "LayoutView",
            "grid_template_rows": null,
            "right": null,
            "justify_content": null,
            "_view_module": "@jupyter-widgets/base",
            "overflow": null,
            "_model_module_version": "1.2.0",
            "_view_count": null,
            "flex_flow": null,
            "width": null,
            "min_width": null,
            "border": null,
            "align_items": null,
            "bottom": null,
            "_model_module": "@jupyter-widgets/base",
            "top": null,
            "grid_column": null,
            "overflow_y": null,
            "overflow_x": null,
            "grid_auto_flow": null,
            "grid_area": null,
            "grid_template_columns": null,
            "flex": null,
            "_model_name": "LayoutModel",
            "justify_items": null,
            "grid_row": null,
            "max_height": null,
            "align_content": null,
            "visibility": null,
            "align_self": null,
            "height": null,
            "min_height": null,
            "padding": null,
            "grid_auto_rows": null,
            "grid_gap": null,
            "max_width": null,
            "order": null,
            "_view_module_version": "1.2.0",
            "grid_template_areas": null,
            "object_position": null,
            "object_fit": null,
            "grid_auto_columns": null,
            "margin": null,
            "display": null,
            "left": null
          }
        },
        "17aaba3ee179485cbecb83f335034dc7": {
          "model_module": "@jupyter-widgets/controls",
          "model_name": "IntProgressModel",
          "state": {
            "_view_name": "ProgressView",
            "style": "IPY_MODEL_5cc98529f0604b31986dcad17d146418",
            "_dom_classes": [],
            "description": "",
            "_model_name": "IntProgressModel",
            "bar_style": "success",
            "max": 1000,
            "_view_module": "@jupyter-widgets/controls",
            "_model_module_version": "1.5.0",
            "value": 1000,
            "_view_count": null,
            "_view_module_version": "1.5.0",
            "orientation": "horizontal",
            "min": 0,
            "description_tooltip": null,
            "_model_module": "@jupyter-widgets/controls",
            "layout": "IPY_MODEL_b5d51b5ad5524ba7a1443672ae9af9bc"
          }
        },
        "9f1fea91137c45638a64eb1f579c537c": {
          "model_module": "@jupyter-widgets/controls",
          "model_name": "HTMLModel",
          "state": {
            "_view_name": "HTMLView",
            "style": "IPY_MODEL_51afc16d903448ffa8f25064ee2985ec",
            "_dom_classes": [],
            "description": "",
            "_model_name": "HTMLModel",
            "placeholder": "​",
            "_view_module": "@jupyter-widgets/controls",
            "_model_module_version": "1.5.0",
            "value": "100% 1000/1000 [00:02&lt;00:00, 492.92it/s]",
            "_view_count": null,
            "_view_module_version": "1.5.0",
            "description_tooltip": null,
            "_model_module": "@jupyter-widgets/controls",
            "layout": "IPY_MODEL_42f1e316041e4ddd9cac2ff9a1444a12"
          }
        },
        "5cc98529f0604b31986dcad17d146418": {
          "model_module": "@jupyter-widgets/controls",
          "model_name": "ProgressStyleModel",
          "state": {
            "_view_name": "StyleView",
            "_model_name": "ProgressStyleModel",
            "description_width": "",
            "_view_module": "@jupyter-widgets/base",
            "_model_module_version": "1.5.0",
            "_view_count": null,
            "_view_module_version": "1.2.0",
            "bar_color": null,
            "_model_module": "@jupyter-widgets/controls"
          }
        },
        "b5d51b5ad5524ba7a1443672ae9af9bc": {
          "model_module": "@jupyter-widgets/base",
          "model_name": "LayoutModel",
          "state": {
            "_view_name": "LayoutView",
            "grid_template_rows": null,
            "right": null,
            "justify_content": null,
            "_view_module": "@jupyter-widgets/base",
            "overflow": null,
            "_model_module_version": "1.2.0",
            "_view_count": null,
            "flex_flow": null,
            "width": null,
            "min_width": null,
            "border": null,
            "align_items": null,
            "bottom": null,
            "_model_module": "@jupyter-widgets/base",
            "top": null,
            "grid_column": null,
            "overflow_y": null,
            "overflow_x": null,
            "grid_auto_flow": null,
            "grid_area": null,
            "grid_template_columns": null,
            "flex": null,
            "_model_name": "LayoutModel",
            "justify_items": null,
            "grid_row": null,
            "max_height": null,
            "align_content": null,
            "visibility": null,
            "align_self": null,
            "height": null,
            "min_height": null,
            "padding": null,
            "grid_auto_rows": null,
            "grid_gap": null,
            "max_width": null,
            "order": null,
            "_view_module_version": "1.2.0",
            "grid_template_areas": null,
            "object_position": null,
            "object_fit": null,
            "grid_auto_columns": null,
            "margin": null,
            "display": null,
            "left": null
          }
        },
        "51afc16d903448ffa8f25064ee2985ec": {
          "model_module": "@jupyter-widgets/controls",
          "model_name": "DescriptionStyleModel",
          "state": {
            "_view_name": "StyleView",
            "_model_name": "DescriptionStyleModel",
            "description_width": "",
            "_view_module": "@jupyter-widgets/base",
            "_model_module_version": "1.5.0",
            "_view_count": null,
            "_view_module_version": "1.2.0",
            "_model_module": "@jupyter-widgets/controls"
          }
        },
        "42f1e316041e4ddd9cac2ff9a1444a12": {
          "model_module": "@jupyter-widgets/base",
          "model_name": "LayoutModel",
          "state": {
            "_view_name": "LayoutView",
            "grid_template_rows": null,
            "right": null,
            "justify_content": null,
            "_view_module": "@jupyter-widgets/base",
            "overflow": null,
            "_model_module_version": "1.2.0",
            "_view_count": null,
            "flex_flow": null,
            "width": null,
            "min_width": null,
            "border": null,
            "align_items": null,
            "bottom": null,
            "_model_module": "@jupyter-widgets/base",
            "top": null,
            "grid_column": null,
            "overflow_y": null,
            "overflow_x": null,
            "grid_auto_flow": null,
            "grid_area": null,
            "grid_template_columns": null,
            "flex": null,
            "_model_name": "LayoutModel",
            "justify_items": null,
            "grid_row": null,
            "max_height": null,
            "align_content": null,
            "visibility": null,
            "align_self": null,
            "height": null,
            "min_height": null,
            "padding": null,
            "grid_auto_rows": null,
            "grid_gap": null,
            "max_width": null,
            "order": null,
            "_view_module_version": "1.2.0",
            "grid_template_areas": null,
            "object_position": null,
            "object_fit": null,
            "grid_auto_columns": null,
            "margin": null,
            "display": null,
            "left": null
          }
        },
        "1ba2daa8f40d438e9e7ae49658e9e8d7": {
          "model_module": "@jupyter-widgets/controls",
          "model_name": "HBoxModel",
          "state": {
            "_view_name": "HBoxView",
            "_dom_classes": [],
            "_model_name": "HBoxModel",
            "_view_module": "@jupyter-widgets/controls",
            "_model_module_version": "1.5.0",
            "_view_count": null,
            "_view_module_version": "1.5.0",
            "box_style": "",
            "layout": "IPY_MODEL_e03c1e5653fb42ebb398738d23623351",
            "_model_module": "@jupyter-widgets/controls",
            "children": [
              "IPY_MODEL_61a72a247f144b95875a0d51d2d94bc2",
              "IPY_MODEL_d8f5bf2c72d14e4a82a7240ddbdf2909"
            ]
          }
        },
        "e03c1e5653fb42ebb398738d23623351": {
          "model_module": "@jupyter-widgets/base",
          "model_name": "LayoutModel",
          "state": {
            "_view_name": "LayoutView",
            "grid_template_rows": null,
            "right": null,
            "justify_content": null,
            "_view_module": "@jupyter-widgets/base",
            "overflow": null,
            "_model_module_version": "1.2.0",
            "_view_count": null,
            "flex_flow": null,
            "width": null,
            "min_width": null,
            "border": null,
            "align_items": null,
            "bottom": null,
            "_model_module": "@jupyter-widgets/base",
            "top": null,
            "grid_column": null,
            "overflow_y": null,
            "overflow_x": null,
            "grid_auto_flow": null,
            "grid_area": null,
            "grid_template_columns": null,
            "flex": null,
            "_model_name": "LayoutModel",
            "justify_items": null,
            "grid_row": null,
            "max_height": null,
            "align_content": null,
            "visibility": null,
            "align_self": null,
            "height": null,
            "min_height": null,
            "padding": null,
            "grid_auto_rows": null,
            "grid_gap": null,
            "max_width": null,
            "order": null,
            "_view_module_version": "1.2.0",
            "grid_template_areas": null,
            "object_position": null,
            "object_fit": null,
            "grid_auto_columns": null,
            "margin": null,
            "display": null,
            "left": null
          }
        },
        "61a72a247f144b95875a0d51d2d94bc2": {
          "model_module": "@jupyter-widgets/controls",
          "model_name": "IntProgressModel",
          "state": {
            "_view_name": "ProgressView",
            "style": "IPY_MODEL_b3ef2a8b95fe4481ac48d0679945af29",
            "_dom_classes": [],
            "description": "",
            "_model_name": "IntProgressModel",
            "bar_style": "success",
            "max": 10,
            "_view_module": "@jupyter-widgets/controls",
            "_model_module_version": "1.5.0",
            "value": 10,
            "_view_count": null,
            "_view_module_version": "1.5.0",
            "orientation": "horizontal",
            "min": 0,
            "description_tooltip": null,
            "_model_module": "@jupyter-widgets/controls",
            "layout": "IPY_MODEL_e0a85caf7d644ecfaaa95a2846ef9ec3"
          }
        },
        "d8f5bf2c72d14e4a82a7240ddbdf2909": {
          "model_module": "@jupyter-widgets/controls",
          "model_name": "HTMLModel",
          "state": {
            "_view_name": "HTMLView",
            "style": "IPY_MODEL_3756aad270c042639bb2b11817d6d725",
            "_dom_classes": [],
            "description": "",
            "_model_name": "HTMLModel",
            "placeholder": "​",
            "_view_module": "@jupyter-widgets/controls",
            "_model_module_version": "1.5.0",
            "value": "100% 10/10 [00:01&lt;00:00,  7.87it/s]",
            "_view_count": null,
            "_view_module_version": "1.5.0",
            "description_tooltip": null,
            "_model_module": "@jupyter-widgets/controls",
            "layout": "IPY_MODEL_3869ff880d1d4958be7ced921dbc68be"
          }
        },
        "b3ef2a8b95fe4481ac48d0679945af29": {
          "model_module": "@jupyter-widgets/controls",
          "model_name": "ProgressStyleModel",
          "state": {
            "_view_name": "StyleView",
            "_model_name": "ProgressStyleModel",
            "description_width": "",
            "_view_module": "@jupyter-widgets/base",
            "_model_module_version": "1.5.0",
            "_view_count": null,
            "_view_module_version": "1.2.0",
            "bar_color": null,
            "_model_module": "@jupyter-widgets/controls"
          }
        },
        "e0a85caf7d644ecfaaa95a2846ef9ec3": {
          "model_module": "@jupyter-widgets/base",
          "model_name": "LayoutModel",
          "state": {
            "_view_name": "LayoutView",
            "grid_template_rows": null,
            "right": null,
            "justify_content": null,
            "_view_module": "@jupyter-widgets/base",
            "overflow": null,
            "_model_module_version": "1.2.0",
            "_view_count": null,
            "flex_flow": null,
            "width": null,
            "min_width": null,
            "border": null,
            "align_items": null,
            "bottom": null,
            "_model_module": "@jupyter-widgets/base",
            "top": null,
            "grid_column": null,
            "overflow_y": null,
            "overflow_x": null,
            "grid_auto_flow": null,
            "grid_area": null,
            "grid_template_columns": null,
            "flex": null,
            "_model_name": "LayoutModel",
            "justify_items": null,
            "grid_row": null,
            "max_height": null,
            "align_content": null,
            "visibility": null,
            "align_self": null,
            "height": null,
            "min_height": null,
            "padding": null,
            "grid_auto_rows": null,
            "grid_gap": null,
            "max_width": null,
            "order": null,
            "_view_module_version": "1.2.0",
            "grid_template_areas": null,
            "object_position": null,
            "object_fit": null,
            "grid_auto_columns": null,
            "margin": null,
            "display": null,
            "left": null
          }
        },
        "3756aad270c042639bb2b11817d6d725": {
          "model_module": "@jupyter-widgets/controls",
          "model_name": "DescriptionStyleModel",
          "state": {
            "_view_name": "StyleView",
            "_model_name": "DescriptionStyleModel",
            "description_width": "",
            "_view_module": "@jupyter-widgets/base",
            "_model_module_version": "1.5.0",
            "_view_count": null,
            "_view_module_version": "1.2.0",
            "_model_module": "@jupyter-widgets/controls"
          }
        },
        "3869ff880d1d4958be7ced921dbc68be": {
          "model_module": "@jupyter-widgets/base",
          "model_name": "LayoutModel",
          "state": {
            "_view_name": "LayoutView",
            "grid_template_rows": null,
            "right": null,
            "justify_content": null,
            "_view_module": "@jupyter-widgets/base",
            "overflow": null,
            "_model_module_version": "1.2.0",
            "_view_count": null,
            "flex_flow": null,
            "width": null,
            "min_width": null,
            "border": null,
            "align_items": null,
            "bottom": null,
            "_model_module": "@jupyter-widgets/base",
            "top": null,
            "grid_column": null,
            "overflow_y": null,
            "overflow_x": null,
            "grid_auto_flow": null,
            "grid_area": null,
            "grid_template_columns": null,
            "flex": null,
            "_model_name": "LayoutModel",
            "justify_items": null,
            "grid_row": null,
            "max_height": null,
            "align_content": null,
            "visibility": null,
            "align_self": null,
            "height": null,
            "min_height": null,
            "padding": null,
            "grid_auto_rows": null,
            "grid_gap": null,
            "max_width": null,
            "order": null,
            "_view_module_version": "1.2.0",
            "grid_template_areas": null,
            "object_position": null,
            "object_fit": null,
            "grid_auto_columns": null,
            "margin": null,
            "display": null,
            "left": null
          }
        },
        "9460cd2c530b446e9b8db037647857f0": {
          "model_module": "@jupyter-widgets/controls",
          "model_name": "HBoxModel",
          "state": {
            "_view_name": "HBoxView",
            "_dom_classes": [],
            "_model_name": "HBoxModel",
            "_view_module": "@jupyter-widgets/controls",
            "_model_module_version": "1.5.0",
            "_view_count": null,
            "_view_module_version": "1.5.0",
            "box_style": "",
            "layout": "IPY_MODEL_05a2dadb32ae48469b139a271e9561ff",
            "_model_module": "@jupyter-widgets/controls",
            "children": [
              "IPY_MODEL_66685bc146b24e48a7b5266f0680b858",
              "IPY_MODEL_ea83ae2ff47e4c64a34c3e5b31621730"
            ]
          }
        },
        "05a2dadb32ae48469b139a271e9561ff": {
          "model_module": "@jupyter-widgets/base",
          "model_name": "LayoutModel",
          "state": {
            "_view_name": "LayoutView",
            "grid_template_rows": null,
            "right": null,
            "justify_content": null,
            "_view_module": "@jupyter-widgets/base",
            "overflow": null,
            "_model_module_version": "1.2.0",
            "_view_count": null,
            "flex_flow": null,
            "width": null,
            "min_width": null,
            "border": null,
            "align_items": null,
            "bottom": null,
            "_model_module": "@jupyter-widgets/base",
            "top": null,
            "grid_column": null,
            "overflow_y": null,
            "overflow_x": null,
            "grid_auto_flow": null,
            "grid_area": null,
            "grid_template_columns": null,
            "flex": null,
            "_model_name": "LayoutModel",
            "justify_items": null,
            "grid_row": null,
            "max_height": null,
            "align_content": null,
            "visibility": null,
            "align_self": null,
            "height": null,
            "min_height": null,
            "padding": null,
            "grid_auto_rows": null,
            "grid_gap": null,
            "max_width": null,
            "order": null,
            "_view_module_version": "1.2.0",
            "grid_template_areas": null,
            "object_position": null,
            "object_fit": null,
            "grid_auto_columns": null,
            "margin": null,
            "display": null,
            "left": null
          }
        },
        "66685bc146b24e48a7b5266f0680b858": {
          "model_module": "@jupyter-widgets/controls",
          "model_name": "IntProgressModel",
          "state": {
            "_view_name": "ProgressView",
            "style": "IPY_MODEL_25aad87d5e154d5fa8b8e9d82fc10354",
            "_dom_classes": [],
            "description": "",
            "_model_name": "IntProgressModel",
            "bar_style": "success",
            "max": 10,
            "_view_module": "@jupyter-widgets/controls",
            "_model_module_version": "1.5.0",
            "value": 10,
            "_view_count": null,
            "_view_module_version": "1.5.0",
            "orientation": "horizontal",
            "min": 0,
            "description_tooltip": null,
            "_model_module": "@jupyter-widgets/controls",
            "layout": "IPY_MODEL_95a5b1bc78bd4e34abf562913869b6dc"
          }
        },
        "ea83ae2ff47e4c64a34c3e5b31621730": {
          "model_module": "@jupyter-widgets/controls",
          "model_name": "HTMLModel",
          "state": {
            "_view_name": "HTMLView",
            "style": "IPY_MODEL_c84a7605b1604e09b252c5863a6de9a8",
            "_dom_classes": [],
            "description": "",
            "_model_name": "HTMLModel",
            "placeholder": "​",
            "_view_module": "@jupyter-widgets/controls",
            "_model_module_version": "1.5.0",
            "value": "100% 10/10 [00:01&lt;00:00,  5.58it/s]",
            "_view_count": null,
            "_view_module_version": "1.5.0",
            "description_tooltip": null,
            "_model_module": "@jupyter-widgets/controls",
            "layout": "IPY_MODEL_02a0162af015443aa041e29c7b0c6daf"
          }
        },
        "25aad87d5e154d5fa8b8e9d82fc10354": {
          "model_module": "@jupyter-widgets/controls",
          "model_name": "ProgressStyleModel",
          "state": {
            "_view_name": "StyleView",
            "_model_name": "ProgressStyleModel",
            "description_width": "",
            "_view_module": "@jupyter-widgets/base",
            "_model_module_version": "1.5.0",
            "_view_count": null,
            "_view_module_version": "1.2.0",
            "bar_color": null,
            "_model_module": "@jupyter-widgets/controls"
          }
        },
        "95a5b1bc78bd4e34abf562913869b6dc": {
          "model_module": "@jupyter-widgets/base",
          "model_name": "LayoutModel",
          "state": {
            "_view_name": "LayoutView",
            "grid_template_rows": null,
            "right": null,
            "justify_content": null,
            "_view_module": "@jupyter-widgets/base",
            "overflow": null,
            "_model_module_version": "1.2.0",
            "_view_count": null,
            "flex_flow": null,
            "width": null,
            "min_width": null,
            "border": null,
            "align_items": null,
            "bottom": null,
            "_model_module": "@jupyter-widgets/base",
            "top": null,
            "grid_column": null,
            "overflow_y": null,
            "overflow_x": null,
            "grid_auto_flow": null,
            "grid_area": null,
            "grid_template_columns": null,
            "flex": null,
            "_model_name": "LayoutModel",
            "justify_items": null,
            "grid_row": null,
            "max_height": null,
            "align_content": null,
            "visibility": null,
            "align_self": null,
            "height": null,
            "min_height": null,
            "padding": null,
            "grid_auto_rows": null,
            "grid_gap": null,
            "max_width": null,
            "order": null,
            "_view_module_version": "1.2.0",
            "grid_template_areas": null,
            "object_position": null,
            "object_fit": null,
            "grid_auto_columns": null,
            "margin": null,
            "display": null,
            "left": null
          }
        },
        "c84a7605b1604e09b252c5863a6de9a8": {
          "model_module": "@jupyter-widgets/controls",
          "model_name": "DescriptionStyleModel",
          "state": {
            "_view_name": "StyleView",
            "_model_name": "DescriptionStyleModel",
            "description_width": "",
            "_view_module": "@jupyter-widgets/base",
            "_model_module_version": "1.5.0",
            "_view_count": null,
            "_view_module_version": "1.2.0",
            "_model_module": "@jupyter-widgets/controls"
          }
        },
        "02a0162af015443aa041e29c7b0c6daf": {
          "model_module": "@jupyter-widgets/base",
          "model_name": "LayoutModel",
          "state": {
            "_view_name": "LayoutView",
            "grid_template_rows": null,
            "right": null,
            "justify_content": null,
            "_view_module": "@jupyter-widgets/base",
            "overflow": null,
            "_model_module_version": "1.2.0",
            "_view_count": null,
            "flex_flow": null,
            "width": null,
            "min_width": null,
            "border": null,
            "align_items": null,
            "bottom": null,
            "_model_module": "@jupyter-widgets/base",
            "top": null,
            "grid_column": null,
            "overflow_y": null,
            "overflow_x": null,
            "grid_auto_flow": null,
            "grid_area": null,
            "grid_template_columns": null,
            "flex": null,
            "_model_name": "LayoutModel",
            "justify_items": null,
            "grid_row": null,
            "max_height": null,
            "align_content": null,
            "visibility": null,
            "align_self": null,
            "height": null,
            "min_height": null,
            "padding": null,
            "grid_auto_rows": null,
            "grid_gap": null,
            "max_width": null,
            "order": null,
            "_view_module_version": "1.2.0",
            "grid_template_areas": null,
            "object_position": null,
            "object_fit": null,
            "grid_auto_columns": null,
            "margin": null,
            "display": null,
            "left": null
          }
        }
      }
    }
  },
  "cells": [
    {
      "cell_type": "code",
      "metadata": {
        "id": "EUKJYU85hTOY",
        "colab_type": "code",
        "cellView": "both",
        "outputId": "935a774c-3039-44d6-8c8f-37ba1e8fd3bb",
        "colab": {
          "base_uri": "https://localhost:8080/",
          "height": 144
        }
      },
      "source": [
        "#@title Import packages\n",
        "\n",
        "!pip install sacremoses\n",
        "\n",
        "import torch\n",
        "import torch.nn as nn\n",
        "import torch.nn.functional as F\n",
        "import torch.optim as optim\n",
        "import numpy as np\n",
        "import os\n",
        "import pandas as pd\n",
        "import sacremoses\n",
        "from torch.utils.data import dataloader, Dataset\n",
        "import tqdm"
      ],
      "execution_count": 1,
      "outputs": [
        {
          "output_type": "stream",
          "text": [
            "Requirement already satisfied: sacremoses in /usr/local/lib/python3.6/dist-packages (0.0.38)\n",
            "Requirement already satisfied: tqdm in /usr/local/lib/python3.6/dist-packages (from sacremoses) (4.28.1)\n",
            "Requirement already satisfied: click in /usr/local/lib/python3.6/dist-packages (from sacremoses) (7.0)\n",
            "Requirement already satisfied: regex in /usr/local/lib/python3.6/dist-packages (from sacremoses) (2019.12.20)\n",
            "Requirement already satisfied: joblib in /usr/local/lib/python3.6/dist-packages (from sacremoses) (0.14.1)\n",
            "Requirement already satisfied: six in /usr/local/lib/python3.6/dist-packages (from sacremoses) (1.12.0)\n"
          ],
          "name": "stdout"
        }
      ]
    },
    {
      "cell_type": "code",
      "metadata": {
        "id": "kAWSBWuLhTOp",
        "colab_type": "code",
        "colab": {}
      },
      "source": [
        "import matplotlib.pyplot as plt"
      ],
      "execution_count": 0,
      "outputs": []
    },
    {
      "cell_type": "markdown",
      "metadata": {
        "id": "z1867CdvkL9E",
        "colab_type": "text"
      },
      "source": [
        "**Portions of this lab taken from DS-GA-1011, Fall 2018**"
      ]
    },
    {
      "cell_type": "markdown",
      "metadata": {
        "id": "Av5zuTeVhTO1",
        "colab_type": "text"
      },
      "source": [
        "## 1. Tensor basics\n",
        "\n",
        "PyTorch is a library for training deep neural networks, and much of it is based on the `Tensor`, an array type that is similar to NumPy arrays."
      ]
    },
    {
      "cell_type": "code",
      "metadata": {
        "id": "CHzqQjQ3hTO5",
        "colab_type": "code",
        "colab": {
          "base_uri": "https://localhost:8080/",
          "height": 35
        },
        "outputId": "3b1904a1-5ca7-4be7-941d-b6e89b48fd54"
      },
      "source": [
        "tensor = torch.Tensor([0, 1, 2, 3])\n",
        "tensor"
      ],
      "execution_count": 3,
      "outputs": [
        {
          "output_type": "execute_result",
          "data": {
            "text/plain": [
              "tensor([0., 1., 2., 3.])"
            ]
          },
          "metadata": {
            "tags": []
          },
          "execution_count": 3
        }
      ]
    },
    {
      "cell_type": "code",
      "metadata": {
        "id": "2gCnryWUhTPD",
        "colab_type": "code",
        "colab": {
          "base_uri": "https://localhost:8080/",
          "height": 53
        },
        "outputId": "50c56d63-75d8-449b-aaf5-92fc87e84bf2"
      },
      "source": [
        "print(tensor.shape)\n",
        "print(tensor.dtype)"
      ],
      "execution_count": 4,
      "outputs": [
        {
          "output_type": "stream",
          "text": [
            "torch.Size([4])\n",
            "torch.float32\n"
          ],
          "name": "stdout"
        }
      ]
    },
    {
      "cell_type": "markdown",
      "metadata": {
        "id": "_iMRZ5rWhTPL",
        "colab_type": "text"
      },
      "source": [
        "It's easy to convert between NumPy arrays PyTorch Tensors."
      ]
    },
    {
      "cell_type": "code",
      "metadata": {
        "id": "YeLyTRQ1hTPO",
        "colab_type": "code",
        "colab": {
          "base_uri": "https://localhost:8080/",
          "height": 35
        },
        "outputId": "7c172f01-0a2e-44ac-b344-e5c60396eff1"
      },
      "source": [
        "tensor.numpy()"
      ],
      "execution_count": 5,
      "outputs": [
        {
          "output_type": "execute_result",
          "data": {
            "text/plain": [
              "array([0., 1., 2., 3.], dtype=float32)"
            ]
          },
          "metadata": {
            "tags": []
          },
          "execution_count": 5
        }
      ]
    },
    {
      "cell_type": "markdown",
      "metadata": {
        "id": "PFDnFoFRhTPW",
        "colab_type": "text"
      },
      "source": [
        "They also behave a lot like NumPy arrays."
      ]
    },
    {
      "cell_type": "code",
      "metadata": {
        "scrolled": true,
        "id": "wwkGYChOhTPY",
        "colab_type": "code",
        "colab": {
          "base_uri": "https://localhost:8080/",
          "height": 35
        },
        "outputId": "2849d56e-7656-4b5b-878a-95b65177b8c1"
      },
      "source": [
        "tensor * 5"
      ],
      "execution_count": 6,
      "outputs": [
        {
          "output_type": "execute_result",
          "data": {
            "text/plain": [
              "tensor([ 0.,  5., 10., 15.])"
            ]
          },
          "metadata": {
            "tags": []
          },
          "execution_count": 6
        }
      ]
    },
    {
      "cell_type": "markdown",
      "metadata": {
        "id": "bFEftZv_hTPe",
        "colab_type": "text"
      },
      "source": [
        "## 2. Using CUDA"
      ]
    },
    {
      "cell_type": "markdown",
      "metadata": {
        "id": "VDp9k5awhTPj",
        "colab_type": "text"
      },
      "source": [
        "CUDA and cuDNN allow you to use GPUs to accerate computations for mathematical operations and neural network models.\n",
        "\n",
        "PyTorch natively supports this."
      ]
    },
    {
      "cell_type": "code",
      "metadata": {
        "id": "deqTmKdMhTPm",
        "colab_type": "code",
        "colab": {}
      },
      "source": [
        "assert torch.cuda.is_available and torch.has_cudnn"
      ],
      "execution_count": 0,
      "outputs": []
    },
    {
      "cell_type": "code",
      "metadata": {
        "id": "4dlAaDefhTPt",
        "colab_type": "code",
        "colab": {}
      },
      "source": [
        "x = torch.Tensor(range(5))\n",
        "y = torch.Tensor(np.ones(5))"
      ],
      "execution_count": 0,
      "outputs": []
    },
    {
      "cell_type": "code",
      "metadata": {
        "id": "auy2mNY5hTP0",
        "colab_type": "code",
        "colab": {
          "base_uri": "https://localhost:8080/",
          "height": 35
        },
        "outputId": "bf0e5569-868f-4266-a69f-98f9bc4cea1b"
      },
      "source": [
        "x.cuda()"
      ],
      "execution_count": 9,
      "outputs": [
        {
          "output_type": "execute_result",
          "data": {
            "text/plain": [
              "tensor([0., 1., 2., 3., 4.], device='cuda:0')"
            ]
          },
          "metadata": {
            "tags": []
          },
          "execution_count": 9
        }
      ]
    },
    {
      "cell_type": "code",
      "metadata": {
        "id": "tew9n3cuhTP9",
        "colab_type": "code",
        "colab": {
          "base_uri": "https://localhost:8080/",
          "height": 35
        },
        "outputId": "f47e7254-79de-4eb7-d5f3-f9e442693a41"
      },
      "source": [
        "z = x.cuda() + y.cuda()\n",
        "print(z)"
      ],
      "execution_count": 10,
      "outputs": [
        {
          "output_type": "stream",
          "text": [
            "tensor([1., 2., 3., 4., 5.], device='cuda:0')\n"
          ],
          "name": "stdout"
        }
      ]
    },
    {
      "cell_type": "code",
      "metadata": {
        "id": "QawkS7MehTQD",
        "colab_type": "code",
        "colab": {
          "base_uri": "https://localhost:8080/",
          "height": 35
        },
        "outputId": "06b4032b-e667-4d55-ff68-3ba38221e3f7"
      },
      "source": [
        "z.cpu()"
      ],
      "execution_count": 11,
      "outputs": [
        {
          "output_type": "execute_result",
          "data": {
            "text/plain": [
              "tensor([1., 2., 3., 4., 5.])"
            ]
          },
          "metadata": {
            "tags": []
          },
          "execution_count": 11
        }
      ]
    },
    {
      "cell_type": "markdown",
      "metadata": {
        "id": "TdV-F6r9168Y",
        "colab_type": "text"
      },
      "source": [
        "The recommended method is to use torch.device() as follows,"
      ]
    },
    {
      "cell_type": "code",
      "metadata": {
        "id": "lZVoqIwuhTQL",
        "colab_type": "code",
        "colab": {
          "base_uri": "https://localhost:8080/",
          "height": 35
        },
        "outputId": "4d5e325f-107f-4b65-a998-f6f8532303fd"
      },
      "source": [
        "device = torch.device(\"cuda:0\" if torch.cuda.is_available() else \"cpu\")\n",
        "z = x.to(device) + y.to(device)\n",
        "print(z)"
      ],
      "execution_count": 12,
      "outputs": [
        {
          "output_type": "stream",
          "text": [
            "tensor([1., 2., 3., 4., 5.], device='cuda:0')\n"
          ],
          "name": "stdout"
        }
      ]
    },
    {
      "cell_type": "markdown",
      "metadata": {
        "id": "WorWdYTshTQR",
        "colab_type": "text"
      },
      "source": [
        "## 3. Autograd"
      ]
    },
    {
      "cell_type": "markdown",
      "metadata": {
        "id": "vfI8d51-hTQU",
        "colab_type": "text"
      },
      "source": [
        "Autograd is a submodule in PyTorch that handles automatic differentiations and gradient computation. This allows you to simply define a model once, in a forward fashion, and the library handles the computation of all gradients in the computational graph.\n",
        "\n",
        "Here, we create 2 Tensors, but we want PyTorch to compute gradients with respect to x\n",
        ". By default, for arbitrary computations in PyTorch, no gradiens are computed (e.g for y)."
      ]
    },
    {
      "cell_type": "code",
      "metadata": {
        "id": "oAVdjoh7hTQW",
        "colab_type": "code",
        "colab": {}
      },
      "source": [
        "x = torch.randn(5, requires_grad=True)\n",
        "y = torch.arange(5.)"
      ],
      "execution_count": 0,
      "outputs": []
    },
    {
      "cell_type": "code",
      "metadata": {
        "id": "t5FWUdW6hTQb",
        "colab_type": "code",
        "colab": {
          "base_uri": "https://localhost:8080/",
          "height": 73
        },
        "outputId": "a4743a8a-ec0c-4a99-ecc3-931e994e3602"
      },
      "source": [
        "print(\"tensor x: \", x)\n",
        "print(\"gradient wrt x:\", x.grad)"
      ],
      "execution_count": 14,
      "outputs": [
        {
          "output_type": "stream",
          "text": [
            "tensor x:  tensor([-2.8157, -1.5841,  0.4311,  0.2688, -0.5965], requires_grad=True)\n",
            "gradient wrt x: None\n"
          ],
          "name": "stdout"
        }
      ]
    },
    {
      "cell_type": "code",
      "metadata": {
        "id": "4iVwkfe0hTQi",
        "colab_type": "code",
        "colab": {
          "base_uri": "https://localhost:8080/",
          "height": 53
        },
        "outputId": "1132396b-43bb-4436-fe5e-18457424d0b0"
      },
      "source": [
        "print(y)\n",
        "print(y.grad)"
      ],
      "execution_count": 15,
      "outputs": [
        {
          "output_type": "stream",
          "text": [
            "tensor([0., 1., 2., 3., 4.])\n",
            "None\n"
          ],
          "name": "stdout"
        }
      ]
    },
    {
      "cell_type": "markdown",
      "metadata": {
        "id": "-RXBswGVhTQp",
        "colab_type": "text"
      },
      "source": [
        "We defined $z = x \\cdot y$. Then\n",
        "\n",
        "$$\\frac{dz}{dx} = y$$\n",
        "\n",
        "Note `z.grad_fn`, which shows $z$ was computed, capturing its dependencies in the computation graph."
      ]
    },
    {
      "cell_type": "code",
      "metadata": {
        "id": "9Ef0FOl6hTQq",
        "colab_type": "code",
        "colab": {
          "base_uri": "https://localhost:8080/",
          "height": 70
        },
        "outputId": "957b6333-3f4e-4705-964b-4a86a1cd805e"
      },
      "source": [
        "z = (x * y).sum()\n",
        "print(z)\n",
        "print(z.grad)\n",
        "print(z.grad_fn)"
      ],
      "execution_count": 16,
      "outputs": [
        {
          "output_type": "stream",
          "text": [
            "tensor(-2.3017, grad_fn=<SumBackward0>)\n",
            "None\n",
            "<SumBackward0 object at 0x7f5ad8f13e80>\n"
          ],
          "name": "stdout"
        }
      ]
    },
    {
      "cell_type": "markdown",
      "metadata": {
        "id": "2euwxnnFhTQv",
        "colab_type": "text"
      },
      "source": [
        "At this point, no gradients are computed yet. It is only when we call z.backward() that PyTorch computes the gradients, and backpropagates them to any node in the graph that required gradients (e.g. x)."
      ]
    },
    {
      "cell_type": "code",
      "metadata": {
        "id": "ykJ3cyN5hTQx",
        "colab_type": "code",
        "colab": {}
      },
      "source": [
        "z.backward()"
      ],
      "execution_count": 0,
      "outputs": []
    },
    {
      "cell_type": "markdown",
      "metadata": {
        "id": "EgrCT2HmhTQ2",
        "colab_type": "text"
      },
      "source": [
        "As we can see, $x$ now has gradients associated with it, but $y$ does not."
      ]
    },
    {
      "cell_type": "code",
      "metadata": {
        "id": "dSphL1TAhTQ4",
        "colab_type": "code",
        "colab": {
          "base_uri": "https://localhost:8080/",
          "height": 70
        },
        "outputId": "b9a07030-7ad8-4499-d277-17bf9d8ba777"
      },
      "source": [
        "print(x.grad)\n",
        "print(y.grad)\n",
        "print(z.grad)"
      ],
      "execution_count": 18,
      "outputs": [
        {
          "output_type": "stream",
          "text": [
            "tensor([0., 1., 2., 3., 4.])\n",
            "None\n",
            "None\n"
          ],
          "name": "stdout"
        }
      ]
    },
    {
      "cell_type": "markdown",
      "metadata": {
        "id": "NPtdeGIqhTQ-",
        "colab_type": "text"
      },
      "source": [
        "With just this, we can compute a very rudimentary form of gradient descent!\n"
      ]
    },
    {
      "cell_type": "code",
      "metadata": {
        "id": "-KYluBjShTRA",
        "colab_type": "code",
        "colab": {}
      },
      "source": [
        "# A very silly case of gradient descent:\n",
        "learning_rate = 0.01\n",
        "x = torch.tensor([1000.], requires_grad=True)\n",
        "x_values = []\n",
        "for i in range(1000):\n",
        "    \n",
        "    # Our loss function is: We want x**2 to be small\n",
        "    loss = x ** 2\n",
        "    loss.backward()\n",
        "    \n",
        "    # Have to do something a little convoluted here to subtract the \n",
        "    #   gradient -- don't worry, we'll never do this again\n",
        "    x.data.sub_(x.grad.data * learning_rate)\n",
        "    \n",
        "    # Remember to zero-out the gradient! \n",
        "    # PyTorch doesn't do it automatically.\n",
        "    x.grad.data = torch.Tensor([0])\n",
        "    x_values.append(x.item())"
      ],
      "execution_count": 0,
      "outputs": []
    },
    {
      "cell_type": "code",
      "metadata": {
        "id": "FMSkZl9thTRE",
        "colab_type": "code",
        "colab": {
          "base_uri": "https://localhost:8080/",
          "height": 283
        },
        "outputId": "cd962034-db93-4490-9b08-a3c01fd3daf1"
      },
      "source": [
        "plt.plot(x_values)"
      ],
      "execution_count": 20,
      "outputs": [
        {
          "output_type": "execute_result",
          "data": {
            "text/plain": [
              "[<matplotlib.lines.Line2D at 0x7f5ad060ada0>]"
            ]
          },
          "metadata": {
            "tags": []
          },
          "execution_count": 20
        },
        {
          "output_type": "display_data",
          "data": {
            "image/png": "[encoded data removed]",
            "text/plain": [
              "<Figure size 432x288 with 1 Axes>"
            ]
          },
          "metadata": {
            "tags": []
          }
        }
      ]
    },
    {
      "cell_type": "markdown",
      "metadata": {
        "id": "bAIMjmGBhTRK",
        "colab_type": "text"
      },
      "source": [
        "Lastly, sometimes you want to run things without computing gradients:"
      ]
    },
    {
      "cell_type": "code",
      "metadata": {
        "id": "GIVW9HhMhTRM",
        "colab_type": "code",
        "colab": {
          "base_uri": "https://localhost:8080/",
          "height": 53
        },
        "outputId": "adecba13-e67e-447a-d62e-3fcf05b47193"
      },
      "source": [
        "x = torch.tensor([1000.], requires_grad=True)\n",
        "\n",
        "# With gradient computation:\n",
        "loss = x ** 2\n",
        "print(loss.requires_grad)\n",
        "\n",
        "\n",
        "# Without gradient computation:\n",
        "with torch.no_grad(): # This temporarily sets all the requires_grad flags to false\n",
        "    loss = x ** 2\n",
        "print(loss.requires_grad)"
      ],
      "execution_count": 21,
      "outputs": [
        {
          "output_type": "stream",
          "text": [
            "True\n",
            "False\n"
          ],
          "name": "stdout"
        }
      ]
    },
    {
      "cell_type": "markdown",
      "metadata": {
        "id": "YBlRQHZRhTRQ",
        "colab_type": "text"
      },
      "source": [
        "## 4. Regression with PyTorch"
      ]
    },
    {
      "cell_type": "markdown",
      "metadata": {
        "id": "oXfZxfIBhTRS",
        "colab_type": "text"
      },
      "source": [
        "Let's solve a toy regression problem with PyTorch. Let's define the following data-generating process:\n",
        "\n",
        "$$ y = wx + b + \\epsilon$$\n",
        "\n",
        "Where $w=2$, $b=5$, and $\\epsilon \\sim N(0, 1)$."
      ]
    },
    {
      "cell_type": "code",
      "metadata": {
        "id": "x03lx3HihTRU",
        "colab_type": "code",
        "colab": {}
      },
      "source": [
        "rng = np.random.RandomState(seed=1234)\n",
        "torch.manual_seed(1234)\n",
        "x = rng.uniform(0, 10, 100)\n",
        "w = 2\n",
        "b = 5\n",
        "eps = rng.normal(size=100)\n",
        "y = w * x + b + eps"
      ],
      "execution_count": 0,
      "outputs": []
    },
    {
      "cell_type": "markdown",
      "metadata": {
        "id": "lF2QxOezhTRY",
        "colab_type": "text"
      },
      "source": [
        "Our data looks like this. Now, we want to fit a best-fit line through our data."
      ]
    },
    {
      "cell_type": "code",
      "metadata": {
        "scrolled": true,
        "id": "R-mxQO_ahTRZ",
        "colab_type": "code",
        "colab": {
          "base_uri": "https://localhost:8080/",
          "height": 283
        },
        "outputId": "3f83e4d2-05e1-4789-9609-19234b5081d3"
      },
      "source": [
        "plt.scatter(x, y)"
      ],
      "execution_count": 23,
      "outputs": [
        {
          "output_type": "execute_result",
          "data": {
            "text/plain": [
              "<matplotlib.collections.PathCollection at 0x7f5ad0156898>"
            ]
          },
          "metadata": {
            "tags": []
          },
          "execution_count": 23
        },
        {
          "output_type": "display_data",
          "data": {
            "image/png": "[encoded data removed]",
            "text/plain": [
              "<Figure size 432x288 with 1 Axes>"
            ]
          },
          "metadata": {
            "tags": []
          }
        }
      ]
    },
    {
      "cell_type": "markdown",
      "metadata": {
        "id": "USCABfrvhTRe",
        "colab_type": "text"
      },
      "source": [
        "PyTorch lets users wrap complex function in `nn.Modules`. `nn.Linear` is a simple instance of a module, that just captures a simple linear function."
      ]
    },
    {
      "cell_type": "code",
      "metadata": {
        "id": "rep3zBpChTRg",
        "colab_type": "code",
        "colab": {}
      },
      "source": [
        "linear_model = nn.Linear(in_features=1, out_features=1)"
      ],
      "execution_count": 0,
      "outputs": []
    },
    {
      "cell_type": "markdown",
      "metadata": {
        "id": "UE0XykfqhTRl",
        "colab_type": "text"
      },
      "source": [
        "The above initialized `linear_model` contains two parameters: a weight and a bias, corresponding to the $w$ and $b$ above. The values of these parameters are randomly initialized at the start."
      ]
    },
    {
      "cell_type": "code",
      "metadata": {
        "id": "T1Dx3ENbhTRn",
        "colab_type": "code",
        "colab": {
          "base_uri": "https://localhost:8080/",
          "height": 88
        },
        "outputId": "3c59e49a-5eec-4d11-962c-f95df199e72f"
      },
      "source": [
        "for name, param in linear_model.named_parameters():\n",
        "    print(name, param)"
      ],
      "execution_count": 25,
      "outputs": [
        {
          "output_type": "stream",
          "text": [
            "weight Parameter containing:\n",
            "tensor([[-0.9420]], requires_grad=True)\n",
            "bias Parameter containing:\n",
            "tensor([-0.1962], requires_grad=True)\n"
          ],
          "name": "stdout"
        }
      ]
    },
    {
      "cell_type": "markdown",
      "metadata": {
        "id": "TStejIlvhTRq",
        "colab_type": "text"
      },
      "source": [
        "This is what our untrained model looks like initially: it's just a random line!"
      ]
    },
    {
      "cell_type": "code",
      "metadata": {
        "id": "v4ZU3fzuhTRs",
        "colab_type": "code",
        "colab": {
          "base_uri": "https://localhost:8080/",
          "height": 283
        },
        "outputId": "afd11f06-a5f5-45f4-8c8c-6041303d9fc5"
      },
      "source": [
        "plt.scatter(x, y)\n",
        "x_space = np.linspace(0, 10, 5)\n",
        "plt.plot(\n",
        "    x_space, \n",
        "    linear_model.weight.item() * x_space + linear_model.bias.item(),\n",
        "    linestyle=\"--\", color=\"red\"\n",
        ")"
      ],
      "execution_count": 26,
      "outputs": [
        {
          "output_type": "execute_result",
          "data": {
            "text/plain": [
              "[<matplotlib.lines.Line2D at 0x7f5ad0113400>]"
            ]
          },
          "metadata": {
            "tags": []
          },
          "execution_count": 26
        },
        {
          "output_type": "display_data",
          "data": {
            "image/png": "[encoded data removed]",
            "text/plain": [
              "<Figure size 432x288 with 1 Axes>"
            ]
          },
          "metadata": {
            "tags": []
          }
        }
      ]
    },
    {
      "cell_type": "markdown",
      "metadata": {
        "id": "-UoxmpmjhTRw",
        "colab_type": "text"
      },
      "source": [
        "To start training, we'll do two things:\n",
        "* First, we'll create PyTorch tensors based on our artifically generated data.\n",
        "* Second, we'll create an optimizer, that will make gradient descent more convenient for us. We'll use a simple stochastic gradient descent (SGD) optimizer with a learning rate of 0.01."
      ]
    },
    {
      "cell_type": "code",
      "metadata": {
        "scrolled": true,
        "id": "4HPHClI2hTRx",
        "colab_type": "code",
        "colab": {}
      },
      "source": [
        "x_tensor = torch.tensor(x).float().view(-1, 1)\n",
        "y_tensor = torch.tensor(y).float().view(-1, 1)\n",
        "optimizer = optim.SGD(linear_model.parameters(), lr=0.01)"
      ],
      "execution_count": 0,
      "outputs": []
    },
    {
      "cell_type": "markdown",
      "metadata": {
        "id": "c6eWgexUhTR2",
        "colab_type": "text"
      },
      "source": [
        "Let's perform our optimization for 1000 steps, and see how our line of best fit changes over time (we'll check every 200 steps).\n",
        "\n",
        "Pay close attention to the steps that happen within the loop:\n",
        "\n",
        "1. Compute the forward pass (predict $\\hat{y}$)\n",
        "2. Compute the loss (how far are we from the true $y$?)\n",
        "3. Back-propagate the gradients\n",
        "4. Take a step with the optimizer (update the parameters)\n",
        "5. Zero-out the gradients of the optimizer (**This is an important and often forgotten step**. If you don't do this, the gradients will be continually accumulated for past forward passes.)"
      ]
    },
    {
      "cell_type": "code",
      "metadata": {
        "scrolled": false,
        "id": "SHCVQFpThTR3",
        "colab_type": "code",
        "colab": {
          "base_uri": "https://localhost:8080/",
          "height": 953
        },
        "outputId": "ef88e6a6-0ece-4305-81af-4605b69edd01"
      },
      "source": [
        "for t in range(1001):\n",
        "    # === Optimization === #\n",
        "    \n",
        "    # 1. Compute the forward pass\n",
        "    y_hat = linear_model(x_tensor)\n",
        "    \n",
        "    # 2. Compute the loss\n",
        "    loss = F.mse_loss(y_hat, y_tensor)\n",
        "    \n",
        "    # 3. Back-propagate the gradients\n",
        "    loss.backward()\n",
        "    \n",
        "    # 4. Take a step with the optimizer (update the parameters)\n",
        "    optimizer.step()\n",
        "    \n",
        "    # 5.Zero-out the gradients of the optimizer\n",
        "    optimizer.zero_grad()\n",
        "    \n",
        "    # === Plotting === #\n",
        "    if t % 200 == 0:\n",
        "        current_w = linear_model.weight.item()\n",
        "        current_b = linear_model.bias.item()\n",
        "        plt.figure(figsize=(4, 2))\n",
        "        plt.scatter(x, y)\n",
        "        x_space = np.linspace(0, 10, 5)\n",
        "        plt.plot(\n",
        "            x_space, \n",
        "            current_w * x_space + current_b,\n",
        "            linestyle=\"--\", color=\"red\"\n",
        "        )\n",
        "        plt.title(f\"Step={t}, w={current_w:.3f}, b={current_b:.3f}\")\n",
        "        plt.show()"
      ],
      "execution_count": 28,
      "outputs": [
        {
          "output_type": "display_data",
          "data": {
            "image/png": "[encoded data removed]",
            "text/plain": [
              "<Figure size 288x144 with 1 Axes>"
            ]
          },
          "metadata": {
            "tags": []
          }
        },
        {
          "output_type": "display_data",
          "data": {
            "image/png": "[encoded data removed]",
            "text/plain": [
              "<Figure size 288x144 with 1 Axes>"
            ]
          },
          "metadata": {
            "tags": []
          }
        },
        {
          "output_type": "display_data",
          "data": {
            "image/png": "[encoded data removed]",
            "text/plain": [
              "<Figure size 288x144 with 1 Axes>"
            ]
          },
          "metadata": {
            "tags": []
          }
        },
        {
          "output_type": "display_data",
          "data": {
            "image/png": "[encoded data removed]",
            "text/plain": [
              "<Figure size 288x144 with 1 Axes>"
            ]
          },
          "metadata": {
            "tags": []
          }
        },
        {
          "output_type": "display_data",
          "data": {
            "image/png": "[encoded data removed]",
            "text/plain": [
              "<Figure size 288x144 with 1 Axes>"
            ]
          },
          "metadata": {
            "tags": []
          }
        },
        {
          "output_type": "display_data",
          "data": {
            "image/png": "[encoded data removed]",
            "text/plain": [
              "<Figure size 288x144 with 1 Axes>"
            ]
          },
          "metadata": {
            "tags": []
          }
        }
      ]
    },
    {
      "cell_type": "markdown",
      "metadata": {
        "id": "6JqQbPzNhTR8",
        "colab_type": "text"
      },
      "source": [
        "You should see the values of $w$ and $b$ get closer to $2$ and $5$ respectively."
      ]
    },
    {
      "cell_type": "markdown",
      "metadata": {
        "id": "ZfoicWcGhTR-",
        "colab_type": "text"
      },
      "source": [
        "## A simple text-classification model with PyTorch"
      ]
    },
    {
      "cell_type": "code",
      "metadata": {
        "id": "KcKFNxeQj_p1",
        "colab_type": "code",
        "cellView": "both",
        "outputId": "38617ee5-16ba-4b03-a10d-730563fead2d",
        "colab": {
          "base_uri": "https://localhost:8080/",
          "height": 1000
        }
      },
      "source": [
        "#@title Download data and GloVe word embeddings\n",
        "\n",
        "# === Download data and GloVe word embeddings\n",
        "# !wget https://s3.amazonaws.com/fast-ai-nlp/yelp_review_polarity_csv.tgz\n",
        "# !wget http://nlp.stanford.edu/data/glove.6B.zip\n",
        "\n",
        "# === Unzip yelp dataset and use a truncated version of the dataset\n",
        "# !tar zxvf yelp_review_polarity_csv.tgz\n",
        "# !head -n 10000 yelp_review_polarity_csv/train.csv > train_10000.csv\n",
        "# !head -n 1000 yelp_review_polarity_csv/test.csv > test_1000.csv\n",
        "\n",
        "# === Unzip word embeddings and use only the top 50000 word embeddings for speed\n",
        "# !unzip glove.6B.zip\n",
        "# !head -n 50000 glove.6B.300d.txt > glove.6B.300d__50k.txt\n",
        "\n",
        "# === Download Preprocessed version\n",
        "!wget https://docs.google.com/uc?id=1iBc6Mc8rt1T9Uo6QH9rdVQOL6ZjwvTGf -O train_10000.csv\n",
        "!wget https://docs.google.com/uc?id=13B-BqMHTyUehUZkyNBaHYByCjGUUZXwd -O test_1000.csv\n",
        "!wget https://docs.google.com/uc?id=1KMJTagaVD9hFHXFTPtNk0u2JjvNlyCAu -O glove_split.aa\n",
        "!wget https://docs.google.com/uc?id=1LF2yD2jToXriyD-lsYA5hj03f7J3ZKaY -O glove_split.ab\n",
        "!wget https://docs.google.com/uc?id=1N1xnxkRyM5Gar7sv4d41alyTL92Iip3f -O glove_split.ac\n",
        "!cat glove_split.?? > 'glove.6B.300d__50k.txt'"
      ],
      "execution_count": 29,
      "outputs": [
        {
          "output_type": "stream",
          "text": [
            "--2020-02-17 19:36:18--  https://docs.google.com/uc?id=1iBc6Mc8rt1T9Uo6QH9rdVQOL6ZjwvTGf\n",
            "Resolving docs.google.com (docs.google.com)... 172.217.194.101, 172.217.194.113, 172.217.194.102, ...\n",
            "Connecting to docs.google.com (docs.google.com)|172.217.194.101|:443... connected.\n",
            "HTTP request sent, awaiting response... 302 Moved Temporarily\n",
            "Location: https://doc-10-0g-docs.googleusercontent.com/docs/securesc/ha0ro937gcuc7l7deffksulhg5h7mbp1/l9agna6i9ush5dp69to8vr4la2783ala/1581967800000/14514704803973256873/*/1iBc6Mc8rt1T9Uo6QH9rdVQOL6ZjwvTGf [following]\n",
            "Warning: wildcards not supported in HTTP.\n",
            "--2020-02-17 19:36:19--  https://doc-10-0g-docs.googleusercontent.com/docs/securesc/ha0ro937gcuc7l7deffksulhg5h7mbp1/l9agna6i9ush5dp69to8vr4la2783ala/1581967800000/14514704803973256873/*/1iBc6Mc8rt1T9Uo6QH9rdVQOL6ZjwvTGf\n",
            "Resolving doc-10-0g-docs.googleusercontent.com (doc-10-0g-docs.googleusercontent.com)... 74.125.24.132, 2404:6800:4003:c03::84\n",
            "Connecting to doc-10-0g-docs.googleusercontent.com (doc-10-0g-docs.googleusercontent.com)|74.125.24.132|:443... connected.\n",
            "HTTP request sent, awaiting response... 200 OK\n",
            "Length: unspecified [text/csv]\n",
            "Saving to: ‘train_10000.csv’\n",
            "\n",
            "\rtrain_10000.csv         [<=>                 ]       0  --.-KB/s               \rtrain_10000.csv         [ <=>                ]   6.83M  --.-KB/s    in 0.1s    \n",
            "\n",
            "2020-02-17 19:36:19 (67.5 MB/s) - ‘train_10000.csv’ saved [7163576]\n",
            "\n",
            "--2020-02-17 19:36:21--  https://docs.google.com/uc?id=13B-BqMHTyUehUZkyNBaHYByCjGUUZXwd\n",
            "Resolving docs.google.com (docs.google.com)... 74.125.24.102, 74.125.24.139, 74.125.24.113, ...\n",
            "Connecting to docs.google.com (docs.google.com)|74.125.24.102|:443... connected.\n",
            "HTTP request sent, awaiting response... 302 Moved Temporarily\n",
            "Location: https://doc-00-0g-docs.googleusercontent.com/docs/securesc/ha0ro937gcuc7l7deffksulhg5h7mbp1/ujg5nq5cl2mo0mp4diocubqk4q93a3tg/1581967800000/14514704803973256873/*/13B-BqMHTyUehUZkyNBaHYByCjGUUZXwd [following]\n",
            "Warning: wildcards not supported in HTTP.\n",
            "--2020-02-17 19:36:22--  https://doc-00-0g-docs.googleusercontent.com/docs/securesc/ha0ro937gcuc7l7deffksulhg5h7mbp1/ujg5nq5cl2mo0mp4diocubqk4q93a3tg/1581967800000/14514704803973256873/*/13B-BqMHTyUehUZkyNBaHYByCjGUUZXwd\n",
            "Resolving doc-00-0g-docs.googleusercontent.com (doc-00-0g-docs.googleusercontent.com)... 74.125.24.132, 2404:6800:4003:c03::84\n",
            "Connecting to doc-00-0g-docs.googleusercontent.com (doc-00-0g-docs.googleusercontent.com)|74.125.24.132|:443... connected.\n",
            "HTTP request sent, awaiting response... 200 OK\n",
            "Length: 721232 (704K) [text/csv]\n",
            "Saving to: ‘test_1000.csv’\n",
            "\n",
            "test_1000.csv       100%[===================>] 704.33K  --.-KB/s    in 0.004s  \n",
            "\n",
            "2020-02-17 19:36:22 (166 MB/s) - ‘test_1000.csv’ saved [721232/721232]\n",
            "\n",
            "--2020-02-17 19:36:24--  https://docs.google.com/uc?id=1KMJTagaVD9hFHXFTPtNk0u2JjvNlyCAu\n",
            "Resolving docs.google.com (docs.google.com)... 74.125.24.138, 74.125.24.102, 74.125.24.100, ...\n",
            "Connecting to docs.google.com (docs.google.com)|74.125.24.138|:443... connected.\n",
            "HTTP request sent, awaiting response... 302 Moved Temporarily\n",
            "Location: https://doc-0k-0g-docs.googleusercontent.com/docs/securesc/ha0ro937gcuc7l7deffksulhg5h7mbp1/njp1on705p5b2frsoiar5ado9nmmvr2n/1581967800000/14514704803973256873/*/1KMJTagaVD9hFHXFTPtNk0u2JjvNlyCAu [following]\n",
            "Warning: wildcards not supported in HTTP.\n",
            "--2020-02-17 19:36:26--  https://doc-0k-0g-docs.googleusercontent.com/docs/securesc/ha0ro937gcuc7l7deffksulhg5h7mbp1/njp1on705p5b2frsoiar5ado9nmmvr2n/1581967800000/14514704803973256873/*/1KMJTagaVD9hFHXFTPtNk0u2JjvNlyCAu\n",
            "Resolving doc-0k-0g-docs.googleusercontent.com (doc-0k-0g-docs.googleusercontent.com)... 74.125.24.132, 2404:6800:4003:c03::84\n",
            "Connecting to doc-0k-0g-docs.googleusercontent.com (doc-0k-0g-docs.googleusercontent.com)|74.125.24.132|:443... connected.\n",
            "HTTP request sent, awaiting response... 200 OK\n",
            "Length: unspecified [audio/audible]\n",
            "Saving to: ‘glove_split.aa’\n",
            "\n",
            "glove_split.aa          [  <=>               ]  50.00M   128MB/s    in 0.4s    \n",
            "\n",
            "2020-02-17 19:36:27 (128 MB/s) - ‘glove_split.aa’ saved [52428800]\n",
            "\n",
            "--2020-02-17 19:36:29--  https://docs.google.com/uc?id=1LF2yD2jToXriyD-lsYA5hj03f7J3ZKaY\n",
            "Resolving docs.google.com (docs.google.com)... 74.125.24.138, 74.125.24.102, 74.125.24.100, ...\n",
            "Connecting to docs.google.com (docs.google.com)|74.125.24.138|:443... connected.\n",
            "HTTP request sent, awaiting response... 302 Moved Temporarily\n",
            "Location: https://doc-08-0g-docs.googleusercontent.com/docs/securesc/ha0ro937gcuc7l7deffksulhg5h7mbp1/lacce9r8k48emaa20tbs663q9uh08710/1581967800000/14514704803973256873/*/1LF2yD2jToXriyD-lsYA5hj03f7J3ZKaY [following]\n",
            "Warning: wildcards not supported in HTTP.\n",
            "--2020-02-17 19:36:30--  https://doc-08-0g-docs.googleusercontent.com/docs/securesc/ha0ro937gcuc7l7deffksulhg5h7mbp1/lacce9r8k48emaa20tbs663q9uh08710/1581967800000/14514704803973256873/*/1LF2yD2jToXriyD-lsYA5hj03f7J3ZKaY\n",
            "Resolving doc-08-0g-docs.googleusercontent.com (doc-08-0g-docs.googleusercontent.com)... 74.125.24.132, 2404:6800:4003:c03::84\n",
            "Connecting to doc-08-0g-docs.googleusercontent.com (doc-08-0g-docs.googleusercontent.com)|74.125.24.132|:443... connected.\n",
            "HTTP request sent, awaiting response... 200 OK\n",
            "Length: unspecified [application/octet-stream]\n",
            "Saving to: ‘glove_split.ab’\n",
            "\n",
            "glove_split.ab          [  <=>               ]  50.00M   210MB/s    in 0.2s    \n",
            "\n",
            "2020-02-17 19:36:30 (210 MB/s) - ‘glove_split.ab’ saved [52428800]\n",
            "\n",
            "--2020-02-17 19:36:33--  https://docs.google.com/uc?id=1N1xnxkRyM5Gar7sv4d41alyTL92Iip3f\n",
            "Resolving docs.google.com (docs.google.com)... 74.125.24.100, 74.125.24.139, 74.125.24.113, ...\n",
            "Connecting to docs.google.com (docs.google.com)|74.125.24.100|:443... connected.\n",
            "HTTP request sent, awaiting response... 302 Moved Temporarily\n",
            "Location: https://doc-04-0g-docs.googleusercontent.com/docs/securesc/ha0ro937gcuc7l7deffksulhg5h7mbp1/cjh6vbj9l1a069ejjp88dgu5tq7rdosm/1581967800000/14514704803973256873/*/1N1xnxkRyM5Gar7sv4d41alyTL92Iip3f [following]\n",
            "Warning: wildcards not supported in HTTP.\n",
            "--2020-02-17 19:36:35--  https://doc-04-0g-docs.googleusercontent.com/docs/securesc/ha0ro937gcuc7l7deffksulhg5h7mbp1/cjh6vbj9l1a069ejjp88dgu5tq7rdosm/1581967800000/14514704803973256873/*/1N1xnxkRyM5Gar7sv4d41alyTL92Iip3f\n",
            "Resolving doc-04-0g-docs.googleusercontent.com (doc-04-0g-docs.googleusercontent.com)... 74.125.24.132, 2404:6800:4003:c03::84\n",
            "Connecting to doc-04-0g-docs.googleusercontent.com (doc-04-0g-docs.googleusercontent.com)|74.125.24.132|:443... connected.\n",
            "HTTP request sent, awaiting response... 200 OK\n",
            "Length: unspecified [application/octet-stream]\n",
            "Saving to: ‘glove_split.ac’\n",
            "\n",
            "glove_split.ac          [ <=>                ]  23.49M  --.-KB/s    in 0.1s    \n",
            "\n",
            "2020-02-17 19:36:36 (172 MB/s) - ‘glove_split.ac’ saved [24629432]\n",
            "\n"
          ],
          "name": "stdout"
        }
      ]
    },
    {
      "cell_type": "code",
      "metadata": {
        "id": "Db_YRon3hTSA",
        "colab_type": "code",
        "colab": {}
      },
      "source": [
        "# Some constants that will be useful along the way.\n",
        "\n",
        "VOCAB_SIZE = 50001\n",
        "EMBEDDING_DIM = 300\n",
        "PAD_TOKEN = \"PAD\"\n",
        "NUM_CLASSES = 2\n",
        "NUM_EPOCHS = 10"
      ],
      "execution_count": 0,
      "outputs": []
    },
    {
      "cell_type": "markdown",
      "metadata": {
        "id": "WZQtdRmlhTSD",
        "colab_type": "text"
      },
      "source": [
        "First, let's read in some data. We'll work with a subset of the Yelp review classification dataset."
      ]
    },
    {
      "cell_type": "code",
      "metadata": {
        "id": "VIGqF2-ChTSF",
        "colab_type": "code",
        "colab": {}
      },
      "source": [
        "import pandas as pd\n",
        "import numpy as np\n",
        "train_df = pd.read_csv(\"train_10000.csv\", header=None, names=[\"label\", \"text\"])\n",
        "test_df = pd.read_csv(\"test_1000.csv\", header=None, names=[\"label\", \"text\"])"
      ],
      "execution_count": 0,
      "outputs": []
    },
    {
      "cell_type": "code",
      "metadata": {
        "id": "21JbHD5WhTSJ",
        "colab_type": "code",
        "outputId": "b458008c-b0b4-42f3-c041-b5c9f5238bcb",
        "colab": {
          "base_uri": "https://localhost:8080/",
          "height": 206
        }
      },
      "source": [
        "train_df.head()"
      ],
      "execution_count": 32,
      "outputs": [
        {
          "output_type": "execute_result",
          "data": {
            "text/html": [
              "<div>\n",
              "<style scoped>\n",
              "    .dataframe tbody tr th:only-of-type {\n",
              "        vertical-align: middle;\n",
              "    }\n",
              "\n",
              "    .dataframe tbody tr th {\n",
              "        vertical-align: top;\n",
              "    }\n",
              "\n",
              "    .dataframe thead th {\n",
              "        text-align: right;\n",
              "    }\n",
              "</style>\n",
              "<table border=\"1\" class=\"dataframe\">\n",
              "  <thead>\n",
              "    <tr style=\"text-align: right;\">\n",
              "      <th></th>\n",
              "      <th>label</th>\n",
              "      <th>text</th>\n",
              "    </tr>\n",
              "  </thead>\n",
              "  <tbody>\n",
              "    <tr>\n",
              "      <th>0</th>\n",
              "      <td>1</td>\n",
              "      <td>Unfortunately, the frustration of being Dr. Go...</td>\n",
              "    </tr>\n",
              "    <tr>\n",
              "      <th>1</th>\n",
              "      <td>2</td>\n",
              "      <td>Been going to Dr. Goldberg for over 10 years. ...</td>\n",
              "    </tr>\n",
              "    <tr>\n",
              "      <th>2</th>\n",
              "      <td>1</td>\n",
              "      <td>I don't know what Dr. Goldberg was like before...</td>\n",
              "    </tr>\n",
              "    <tr>\n",
              "      <th>3</th>\n",
              "      <td>1</td>\n",
              "      <td>I'm writing this review to give you a heads up...</td>\n",
              "    </tr>\n",
              "    <tr>\n",
              "      <th>4</th>\n",
              "      <td>2</td>\n",
              "      <td>All the food is great here. But the best thing...</td>\n",
              "    </tr>\n",
              "  </tbody>\n",
              "</table>\n",
              "</div>"
            ],
            "text/plain": [
              "   label                                               text\n",
              "0      1  Unfortunately, the frustration of being Dr. Go...\n",
              "1      2  Been going to Dr. Goldberg for over 10 years. ...\n",
              "2      1  I don't know what Dr. Goldberg was like before...\n",
              "3      1  I'm writing this review to give you a heads up...\n",
              "4      2  All the food is great here. But the best thing..."
            ]
          },
          "metadata": {
            "tags": []
          },
          "execution_count": 32
        }
      ]
    },
    {
      "cell_type": "markdown",
      "metadata": {
        "id": "WeKsTiDbhTSN",
        "colab_type": "text"
      },
      "source": [
        "The labels correspond to 1 for negative and 2 for positive."
      ]
    },
    {
      "cell_type": "markdown",
      "metadata": {
        "id": "6PtOm68bhTSO",
        "colab_type": "text"
      },
      "source": [
        "For this model, we're going to make use of word embeddings. Word embeddings map individual words or tokens to unique vector of numbers (e.g. 300-dim), corresponding to a point in high-dimensional space. (Why these are useful will be covered in class in the near future!)\n",
        "\n",
        "We will use the [GloVe](https://nlp.stanford.edu/projects/glove/) word vectors as our embeddings. These are pretrained on a large corpus of text."
      ]
    },
    {
      "cell_type": "code",
      "metadata": {
        "id": "UpnHBGh1hTSO",
        "colab_type": "code",
        "colab": {}
      },
      "source": [
        "def load_glove(glove_path, embedding_dim):\n",
        "    with open(glove_path) as f:\n",
        "        token_ls = [PAD_TOKEN]\n",
        "        embedding_ls = [np.zeros(embedding_dim)]\n",
        "        for line in f:\n",
        "            token, raw_embedding = line.split(maxsplit=1)\n",
        "            token_ls.append(token)\n",
        "            embedding = np.array([float(x) for x in raw_embedding.split()])\n",
        "            embedding_ls.append(embedding)\n",
        "        embeddings = np.array(embedding_ls)\n",
        "    return token_ls, embeddings"
      ],
      "execution_count": 0,
      "outputs": []
    },
    {
      "cell_type": "code",
      "metadata": {
        "id": "Lix6QLj2hTST",
        "colab_type": "code",
        "colab": {}
      },
      "source": [
        "glove_path = \"glove.6B.300d__50k.txt\"\n",
        "vocab, embeddings = load_glove(glove_path, EMBEDDING_DIM)"
      ],
      "execution_count": 0,
      "outputs": []
    },
    {
      "cell_type": "markdown",
      "metadata": {
        "id": "Iq_rnG4ohTSn",
        "colab_type": "text"
      },
      "source": [
        "After loading the GloVe vectors, we see that we have vocab of 50000 words and a unique PAD token, and a [50000$\\times$300] NumPy array of word vectors."
      ]
    },
    {
      "cell_type": "code",
      "metadata": {
        "id": "sgKpSVqlhTSo",
        "colab_type": "code",
        "outputId": "60501262-3698-4b4a-af08-7f311b1b3cb0",
        "colab": {
          "base_uri": "https://localhost:8080/",
          "height": 179
        }
      },
      "source": [
        "print(len(vocab))\n",
        "print(vocab[:20])\n",
        "print(embeddings.shape)\n",
        "print(embeddings[:5])"
      ],
      "execution_count": 35,
      "outputs": [
        {
          "output_type": "stream",
          "text": [
            "50001\n",
            "['PAD', 'the', ',', '.', 'of', 'to', 'and', 'in', 'a', '\"', \"'s\", 'for', '-', 'that', 'on', 'is', 'was', 'said', 'with', 'he']\n",
            "(50001, 300)\n",
            "[[ 0.         0.         0.        ...  0.         0.         0.       ]\n",
            " [ 0.04656    0.21318   -0.0074364 ...  0.0090611 -0.20989    0.053913 ]\n",
            " [-0.25539   -0.25723    0.13169   ... -0.2329    -0.12226    0.35499  ]\n",
            " [-0.12559    0.01363    0.10306   ... -0.34224   -0.022394   0.13684  ]\n",
            " [-0.076947  -0.021211   0.21271   ...  0.18351   -0.29183   -0.046533 ]]\n"
          ],
          "name": "stdout"
        }
      ]
    },
    {
      "cell_type": "markdown",
      "metadata": {
        "id": "j2NJOG02hTSt",
        "colab_type": "text"
      },
      "source": [
        "Our strategy is to tokenize (break a string of text into words or tokens) our input string into a list of tokens, and map each word the the corresponding vector.\n",
        "\n",
        "We do this by first mapping each word to a token-id, and then use a PyTorch `nn.Embedding` module that maps from token-ids to embeddings. The token-id will simply be the numerical position in our `vocab`."
      ]
    },
    {
      "cell_type": "markdown",
      "metadata": {
        "id": "hMD6hUjjhTSu",
        "colab_type": "text"
      },
      "source": [
        "First, we'll write a function that converts our DataFrame of text and labels into an array of token-ids and an array of labels. We'll use a maximum sequence length of 128, and pad shorter inputs to that length. If we encounter a word that doesn't appear in our vocab, we'll also treat it as a padded value."
      ]
    },
    {
      "cell_type": "code",
      "metadata": {
        "id": "Sxz4AotohTSv",
        "colab_type": "code",
        "outputId": "50f3650e-ae9f-4f06-f4cb-45db51ad00ff",
        "colab": {
          "base_uri": "https://localhost:8080/",
          "height": 117,
          "referenced_widgets": [
            "1e2c8da782a44c089bf0cd048af0aadf",
            "b0c1066c87704e688d5b43da0080aa9e",
            "a9b9e6cbd2cb402e82c5e346e2c66c26",
            "9a8fbe76eaa2486a8e17096824c3ac0e",
            "c60929e70301493cab1e9facf708cd72",
            "4c7d9ee782624f21b9a04cd30a413226",
            "8741ebdcac1f4600ad3646b72686f8d1",
            "0e60683841e246718e234d6976c75050",
            "dfdf7fd75f3f452aba4df80f1def1a5c",
            "307ce7d1be704e37a458993cabf5959c",
            "17aaba3ee179485cbecb83f335034dc7",
            "9f1fea91137c45638a64eb1f579c537c",
            "5cc98529f0604b31986dcad17d146418",
            "b5d51b5ad5524ba7a1443672ae9af9bc",
            "51afc16d903448ffa8f25064ee2985ec",
            "42f1e316041e4ddd9cac2ff9a1444a12"
          ]
        }
      },
      "source": [
        "def featurize(data_df, tokenizer, vocab, max_seq_length=128):\n",
        "    vocab_to_idx = {word: i for i, word in enumerate(vocab)}\n",
        "    text_data = []\n",
        "    label_data = []\n",
        "    for row in tqdm.tqdm_notebook(data_df.itertuples(), total=len(data_df)):\n",
        "        tokenized = tokenizer.tokenize(row.text.lower())\n",
        "        if len(tokenized) < max_seq_length:\n",
        "            tokenized += [PAD_TOKEN] * (max_seq_length - len(tokenized))\n",
        "        tokenized = tokenized[:max_seq_length]\n",
        "        ids = [vocab_to_idx.get(token, 0) for token in tokenized]\n",
        "        text_data.append(ids)\n",
        "        label_data.append(1 if row.label == 2 else 0)\n",
        "    return np.array(text_data), np.array(label_data)\n",
        "\n",
        "tokenizer = sacremoses.MosesTokenizer()\n",
        "train_text, train_labels = featurize(train_df, tokenizer, vocab)\n",
        "test_text, test_labels = featurize(test_df, tokenizer, vocab)"
      ],
      "execution_count": 36,
      "outputs": [
        {
          "output_type": "display_data",
          "data": {
            "application/vnd.jupyter.widget-view+json": {
              "model_id": "1e2c8da782a44c089bf0cd048af0aadf",
              "version_minor": 0,
              "version_major": 2
            },
            "text/plain": [
              "HBox(children=(IntProgress(value=0, max=10000), HTML(value='')))"
            ]
          },
          "metadata": {
            "tags": []
          }
        },
        {
          "output_type": "stream",
          "text": [
            "\n"
          ],
          "name": "stdout"
        },
        {
          "output_type": "display_data",
          "data": {
            "application/vnd.jupyter.widget-view+json": {
              "model_id": "dfdf7fd75f3f452aba4df80f1def1a5c",
              "version_minor": 0,
              "version_major": 2
            },
            "text/plain": [
              "HBox(children=(IntProgress(value=0, max=1000), HTML(value='')))"
            ]
          },
          "metadata": {
            "tags": []
          }
        },
        {
          "output_type": "stream",
          "text": [
            "\n"
          ],
          "name": "stdout"
        }
      ]
    },
    {
      "cell_type": "code",
      "metadata": {
        "scrolled": true,
        "id": "lGT0YJGqhTS1",
        "colab_type": "code",
        "outputId": "ed943aab-9dcf-49dd-f78e-5fe89fc0a9db",
        "colab": {
          "base_uri": "https://localhost:8080/",
          "height": 1000
        }
      },
      "source": [
        "print(\"Train text shape:\", train_text.shape)\n",
        "print(\"Train labels shape:\", train_labels.shape)\n",
        "print(\"\\nTrain text first 5 examples:\\n\", train_text[:5])\n",
        "print(\"\\nTrain labels first 5 examples:\\n\", train_labels[:5])"
      ],
      "execution_count": 37,
      "outputs": [
        {
          "output_type": "stream",
          "text": [
            "Train text shape: (10000, 128)\n",
            "Train labels shape: (10000,)\n",
            "\n",
            "Train text first 5 examples:\n",
            " [[ 4717     2     1  6429     4   135  1345 12316     0  3223    15     8\n",
            "   5149     4     1  1222    42     0    41    18   101   110    69  1769\n",
            "      7 16727    66   220  2083     2  5511     0    21  1349    13    27\n",
            "    822  1482   333  5320     1     0    21  1141  1145   233   607     4\n",
            "   3383  1526     5   170    30     0    39    32    80    11    13    47\n",
            "   1026     5   436    18    21   189    42    34   308    76    38   748\n",
            "     18   110    69  1769     6    42   121  3317     0   170     0    82\n",
            "     34   284   538     2    82    34  1616    18   750  1076     2   739\n",
            "      0     0  1545 10311     1  1265   189    21     0 29467     6    37\n",
            "    162     1     0    21     0    18  6744    13    42   999    13    42\n",
            "     34     5   456  1345 12316   233  1570     3]\n",
            " [   52   223     5  1345 12316    11    75   207     0    42   270    42\n",
            "     16    49     4    27  2694  1616    62    19   552    23     0    19\n",
            "      0    52   354    75     1    83     6    15   589    65    60     1\n",
            "    366     0    21    15   114     4   104     2    37   193   115   158\n",
            "      0  1345     0     2    13    42   239    67    42    34     0    19\n",
            "  15309    65  2781    18    82     6    15   192  3223     6     0    19\n",
            "      0     0   925     6  4652    65     1   249     0   192  9663     6\n",
            "   1026     5    31  1291     7     1  8184    14   360  6396     4   393\n",
            "    750   361     6   393   215     3     0     0     0     0     0     0\n",
            "      0     0     0     0     0     0     0     0     0     0     0     0\n",
            "      0     0     0     0     0     0     0     0]\n",
            " [   42  3317     0   347   103  1345 12316    16   118   107  1234     5\n",
            "   2204     2    35   887   286  1362    82     2  1088   421    26    38\n",
            "   2083     6    38     0    42    16   223     5  1345  1326   107    19\n",
            "    219     6 12316   248    75    62  1326     0    19    15    37     8\n",
            "  11048     0    19    15    92  2543     7     1     0     6   519    82\n",
            "    327     7    11  8925     0   360     0    19    44    37   456     0\n",
            "      6    95   441    60  1616     0   396     0   596     5   170   393\n",
            "   1887   250  1340   421 12326 17287   132    38  1857    15     8     0\n",
            "      6     5   160  3073   152  2772     2    27   284   822    15 20023\n",
            "      3  1887   263     4     1    80    62    82   581     1   284     2\n",
            "     40     0   340    82   132     5     8  1714]\n",
            " [   42     0  1650    38  1288     5   456    82     8  1988    61   107\n",
            "     82   254    38     0     1   284   822     6   467    33   192     0\n",
            "     42   219     8  1444    18  2802    70  3337   193   481     2     6\n",
            "     85    49   662   176   286     0    42    41     5 26855   102     5\n",
            "    170    30  2169    60   193   481     3  7958  3815  7958     0     2\n",
            "      6    97   482     2   160  1086   393  1432    15   223     5  1334\n",
            "   1345 12316     0  3237     6  1455     0    19  3886     5   286    13\n",
            "     42   170     8  2184     2     6    19  1523    42    16     8  1284\n",
            "    114    42   155     0    42   406     1  2184     0   169     2    42\n",
            "    239    67   193   361  1432     0     0   643    11 32422     0    42\n",
            "    497    30    81     0   481    11     1  1455]\n",
            " [   65     1   566    15   354     0    35     1   255   874    40    34\n",
            "     15    45     0    45  4699    33  1482  7873   806   806     1  7958\n",
            "      0  6612 27865  7958     0    33    22     1   255   724    97     0\n",
            "     42    53   118     1 15692  2983     0  1756   365    15   184   724\n",
            "    178   365     2    81 20217  1116  4699   806  7958  3815  7958     0\n",
            "   7211   238    15     0   192   214  2568   806     1  2070    15   192\n",
            "   3083    15     0    38   242    15  4703     8     0     0  2896   806\n",
            "    806  7958     0  3577  5949  7958     0    55   836    38   242  3815\n",
            "      0   806   806     0     0     0     0     0     0     0     0     0\n",
            "      0     0     0     0     0     0     0     0     0     0     0     0\n",
            "      0     0     0     0     0     0     0     0]]\n",
            "\n",
            "Train labels first 5 examples:\n",
            " [0 1 0 0 1]\n"
          ],
          "name": "stdout"
        }
      ]
    },
    {
      "cell_type": "markdown",
      "metadata": {
        "id": "Txg95XW3hTS6",
        "colab_type": "text"
      },
      "source": [
        "Next, we build the `nn.Embedding` module, and put our loaded GloVe vectors into the embeddding weights. (Since these are pretrained, we'll opt not to train them any more, so we set `requires_grad` to False.)"
      ]
    },
    {
      "cell_type": "code",
      "metadata": {
        "id": "eSXuotLGhTS7",
        "colab_type": "code",
        "colab": {}
      },
      "source": [
        "embedding_layer = nn.Embedding(VOCAB_SIZE, EMBEDDING_DIM, padding_idx=0)\n",
        "embedding_layer.weight.data = torch.Tensor(embeddings).float()\n",
        "embedding_layer.weight.requires_grad = False"
      ],
      "execution_count": 0,
      "outputs": []
    },
    {
      "cell_type": "markdown",
      "metadata": {
        "id": "ceUon_o4hTS-",
        "colab_type": "text"
      },
      "source": [
        "Deep learning models are typically trained in batches of inputs (as opposed to the whole data set at once). We'll use some PyTorch utilities to easily create input batches. We'll use the `Dataset` and `Dataloader` objects for this."
      ]
    },
    {
      "cell_type": "code",
      "metadata": {
        "id": "jHA0lcwdhTS_",
        "colab_type": "code",
        "colab": {}
      },
      "source": [
        "class TextDataset(Dataset):\n",
        "    def __init__(self, text_data, labels_data):\n",
        "        super().__init__()\n",
        "        self.text_data = text_data\n",
        "        self.labels_data = labels_data\n",
        "    \n",
        "    def __len__(self):\n",
        "        return len(self.text_data)\n",
        "    \n",
        "    def __getitem__(self, idx):\n",
        "        return (self.text_data[idx], self.labels_data[idx])"
      ],
      "execution_count": 0,
      "outputs": []
    },
    {
      "cell_type": "code",
      "metadata": {
        "id": "37w-dHcmhTTB",
        "colab_type": "code",
        "colab": {}
      },
      "source": [
        "train_dataset = TextDataset(train_text, train_labels)\n",
        "test_dataset = TextDataset(test_text, test_labels)"
      ],
      "execution_count": 0,
      "outputs": []
    },
    {
      "cell_type": "markdown",
      "metadata": {
        "id": "l2HCi9VZhTTF",
        "colab_type": "text"
      },
      "source": [
        "The order of examples are often shuffled in training, but never for evaluation."
      ]
    },
    {
      "cell_type": "code",
      "metadata": {
        "id": "uZJLKo_ohTTF",
        "colab_type": "code",
        "colab": {}
      },
      "source": [
        "train_dataloader = dataloader.DataLoader(\n",
        "    dataset=train_dataset, batch_size=256, shuffle=True\n",
        ")\n",
        "test_dataloader = dataloader.DataLoader(\n",
        "    dataset=test_dataset, batch_size=256, shuffle=False\n",
        ")"
      ],
      "execution_count": 0,
      "outputs": []
    },
    {
      "cell_type": "markdown",
      "metadata": {
        "id": "qtl4tK6hhTTI",
        "colab_type": "text"
      },
      "source": [
        "Finally, let's define our model. Our model will simply take an average our the embeddings for an input, and then use a apply a simple linear transformation to get the predicted probabilities for the two classes. This is essentially a multi-class logistic regression."
      ]
    },
    {
      "cell_type": "code",
      "metadata": {
        "id": "DbbYG8g-hTTJ",
        "colab_type": "code",
        "colab": {}
      },
      "source": [
        "class BagOfWordsModel(nn.Module):\n",
        "    def __init__(self, embedding_layer, num_classes):\n",
        "        super().__init__()\n",
        "        self.embedding_layer = embedding_layer\n",
        "        self.out_layer = nn.Linear(embedding_layer.embedding_dim, num_classes)\n",
        "        \n",
        "    def forward(self, x):\n",
        "        # Retrieve embedding vector for each token\n",
        "        # Output dim: [batch_size, seq_length, embedding_dim]\n",
        "        embedded = embedding_layer(x)\n",
        "        \n",
        "        # Compute the number of valid (non-padding, non-unknown) embeddings per exmaple\n",
        "        # Output dim: [batch_size]\n",
        "        num_embedded = (x != embedding_layer.padding_idx) \\\n",
        "            .float().sum(dim=1).clamp(1)\n",
        "        \n",
        "        # Average the embeddings for each example\n",
        "        # Output dim: [batch_size, embedding_dim]\n",
        "        averaged_embeddings = embedded.sum(dim=1) / num_embedded.view(-1, 1)\n",
        "        \n",
        "        # Put the embedding through a linear layer to get our score (logit)\n",
        "        #   for each class\n",
        "        # Output dim: [batch_size, num_classes]\n",
        "        out = self.out_layer(averaged_embeddings)\n",
        "        \n",
        "        # Apply softmax to our logits to get probabilities\n",
        "        # Output dim: [batch_size, num_classes]\n",
        "        \n",
        "        #return F.softmax(out, dim=-1)\n",
        "        return out"
      ],
      "execution_count": 0,
      "outputs": []
    },
    {
      "cell_type": "markdown",
      "metadata": {
        "id": "TwCovEA7hTTM",
        "colab_type": "text"
      },
      "source": [
        "### Putting it together\n",
        "\n",
        "Now, let's prepare for training. We'll instantiate our model, and set up our loss function and optimizer.\n",
        "\n",
        "(Take note of when we call `.to(device)` for the model and inputs."
      ]
    },
    {
      "cell_type": "code",
      "metadata": {
        "id": "zlj3A1F9pcQk",
        "colab_type": "code",
        "colab": {
          "base_uri": "https://localhost:8080/",
          "height": 35
        },
        "outputId": "2be2db5b-ce61-49bd-ebba-2375e72b11d1"
      },
      "source": [
        "torch.manual_seed(2345)"
      ],
      "execution_count": 43,
      "outputs": [
        {
          "output_type": "execute_result",
          "data": {
            "text/plain": [
              "<torch._C.Generator at 0x7f5b260d7d10>"
            ]
          },
          "metadata": {
            "tags": []
          },
          "execution_count": 43
        }
      ]
    },
    {
      "cell_type": "code",
      "metadata": {
        "id": "LkR881X1hTTO",
        "colab_type": "code",
        "colab": {}
      },
      "source": [
        "device = torch.device(\"cuda:0\")\n",
        "bow_model = BagOfWordsModel(embedding_layer, NUM_CLASSES).to(device)\n",
        "criterion = nn.CrossEntropyLoss()\n",
        "optimizer = optim.Adam(bow_model.parameters(), lr=0.01)\n",
        "loss_history = []"
      ],
      "execution_count": 0,
      "outputs": []
    },
    {
      "cell_type": "code",
      "metadata": {
        "id": "lWu0sH4HhTTR",
        "colab_type": "code",
        "outputId": "6e5994f4-840b-4672-88e8-6c7009216f6c",
        "colab": {
          "base_uri": "https://localhost:8080/",
          "height": 67,
          "referenced_widgets": [
            "1ba2daa8f40d438e9e7ae49658e9e8d7",
            "e03c1e5653fb42ebb398738d23623351",
            "61a72a247f144b95875a0d51d2d94bc2",
            "d8f5bf2c72d14e4a82a7240ddbdf2909",
            "b3ef2a8b95fe4481ac48d0679945af29",
            "e0a85caf7d644ecfaaa95a2846ef9ec3",
            "3756aad270c042639bb2b11817d6d725",
            "3869ff880d1d4958be7ced921dbc68be"
          ]
        }
      },
      "source": [
        "bow_model.train()  # this enables regularization, which we don't currently have\n",
        "for epoch in tqdm.tqdm_notebook(range(NUM_EPOCHS)):\n",
        "    for batch_text, batch_labels in train_dataloader:\n",
        "        preds = bow_model(batch_text.to(device))\n",
        "        loss = criterion(preds, batch_labels.to(device))\n",
        "        loss.backward()\n",
        "        optimizer.step()\n",
        "        optimizer.zero_grad()\n",
        "        loss_history.append(loss.item())"
      ],
      "execution_count": 45,
      "outputs": [
        {
          "output_type": "display_data",
          "data": {
            "application/vnd.jupyter.widget-view+json": {
              "model_id": "1ba2daa8f40d438e9e7ae49658e9e8d7",
              "version_minor": 0,
              "version_major": 2
            },
            "text/plain": [
              "HBox(children=(IntProgress(value=0, max=10), HTML(value='')))"
            ]
          },
          "metadata": {
            "tags": []
          }
        },
        {
          "output_type": "stream",
          "text": [
            "\n"
          ],
          "name": "stdout"
        }
      ]
    },
    {
      "cell_type": "code",
      "metadata": {
        "id": "nWEIkC-1hTTU",
        "colab_type": "code",
        "outputId": "7a193598-300f-49e0-b755-99711ce534af",
        "colab": {
          "base_uri": "https://localhost:8080/",
          "height": 284
        }
      },
      "source": [
        "pd.Series(loss_history).plot()"
      ],
      "execution_count": 46,
      "outputs": [
        {
          "output_type": "execute_result",
          "data": {
            "text/plain": [
              "<matplotlib.axes._subplots.AxesSubplot at 0x7f5aa6690978>"
            ]
          },
          "metadata": {
            "tags": []
          },
          "execution_count": 46
        },
        {
          "output_type": "display_data",
          "data": {
            "image/png": "[encoded data removed]",
            "text/plain": [
              "<Figure size 432x288 with 1 Axes>"
            ]
          },
          "metadata": {
            "tags": []
          }
        }
      ]
    },
    {
      "cell_type": "markdown",
      "metadata": {
        "id": "9DzpT9TAhTTX",
        "colab_type": "text"
      },
      "source": [
        "Let's evaluate our model on the test set."
      ]
    },
    {
      "cell_type": "code",
      "metadata": {
        "id": "w28nDyHvhTTZ",
        "colab_type": "code",
        "colab": {}
      },
      "source": [
        "def run_inference(model, dataloader, labels, device):\n",
        "    model.eval()\n",
        "    with torch.no_grad():\n",
        "        all_preds = []\n",
        "        for batch_text, batch_labels in dataloader:\n",
        "            preds = model(batch_text.to(device))\n",
        "            all_preds.append(preds.detach().cpu().numpy())\n",
        "    return np.concatenate(all_preds, axis=0)"
      ],
      "execution_count": 0,
      "outputs": []
    },
    {
      "cell_type": "code",
      "metadata": {
        "id": "uye3NgOQhTTc",
        "colab_type": "code",
        "colab": {
          "base_uri": "https://localhost:8080/",
          "height": 35
        },
        "outputId": "35734240-5bfa-478c-c158-e1f2dbe7fb40"
      },
      "source": [
        "preds = run_inference(bow_model, test_dataloader, test_labels, device)\n",
        "(test_labels==preds.argmax(-1)).mean()"
      ],
      "execution_count": 48,
      "outputs": [
        {
          "output_type": "execute_result",
          "data": {
            "text/plain": [
              "0.812"
            ]
          },
          "metadata": {
            "tags": []
          },
          "execution_count": 48
        }
      ]
    },
    {
      "cell_type": "markdown",
      "metadata": {
        "id": "HEQlTykshTTg",
        "colab_type": "text"
      },
      "source": [
        "### A more complex model\n",
        "\n",
        "We can make our model a little more complex. Let's add in:\n",
        "\n",
        "1. A hidden layer (now the model is \"deep\"!)\n",
        "2. Dropout (a form of regularization that randomly zeros out hidden activations during training)"
      ]
    },
    {
      "cell_type": "code",
      "metadata": {
        "id": "Lf1bFJx-hTTi",
        "colab_type": "code",
        "colab": {}
      },
      "source": [
        "class BetterBagOfWordsModel(nn.Module):\n",
        "    def __init__(self, embedding_layer, num_classes,\n",
        "                 hidden_dim=300, dropout_rate=0.5):\n",
        "        super().__init__()\n",
        "        self.embedding_layer = embedding_layer\n",
        "        # ==== START === #\n",
        "        # Consider using:\n",
        "        #   nn.Dropout\n",
        "        #   nn.Linear\n",
        "        self.layer1 = nn.Linear(\n",
        "            self.embedding_layer.embedding_dim,\n",
        "            hidden_dim,\n",
        "        )\n",
        "        self.dropout = nn.Dropout(dropout_rate)\n",
        "        # ==== END === #\n",
        "        self.out_layer = nn.Linear(hidden_dim, num_classes)\n",
        "        \n",
        "    def forward(self, x):\n",
        "        # Retrieve embedding vector for each token\n",
        "        # Output dim: [batch_size, seq_length, embedding_dim]\n",
        "        embedded = embedding_layer(x)\n",
        "        \n",
        "        # Compute the number of valid (non-padding, non-unknown) embeddings per exmaple\n",
        "        # Output dim: [batch_size]\n",
        "        num_embedded = (x != embedding_layer.padding_idx) \\\n",
        "            .float().sum(dim=1).clamp(1)\n",
        "        \n",
        "        # Average the embeddings for each example\n",
        "        # Output dim: [batch_size, embedding_dim]\n",
        "        averaged_embeddings = embedded.sum(dim=1) / num_embedded.view(-1, 1)\n",
        "        \n",
        "        # ==== START === #\n",
        "        # Consider using:\n",
        "        #   F.relu\n",
        "        #   self.layer1\n",
        "        #   self.dropout\n",
        "        h = self.layer1(averaged_embeddings)\n",
        "        h = self.dropout(h)\n",
        "        # ==== END === #\n",
        "        \n",
        "        # Put the embedding through a linear layer to get our score (logit)\n",
        "        #   for each class\n",
        "        # Output dim: [batch_size, num_classes]\n",
        "        out = self.out_layer(h)\n",
        "        \n",
        "        # Apply softmax to our logits to get probabilities\n",
        "        # Output dim: [batch_size, num_classes]\n",
        "        \n",
        "        #return F.softmax(out, dim=-1)\n",
        "        return out"
      ],
      "execution_count": 0,
      "outputs": []
    },
    {
      "cell_type": "code",
      "metadata": {
        "id": "hqPo4ybohTTl",
        "colab_type": "code",
        "colab": {}
      },
      "source": [
        "device = torch.device(\"cuda:0\")\n",
        "better_bow_model = BetterBagOfWordsModel(\n",
        "    embedding_layer, \n",
        "    NUM_CLASSES,\n",
        "    hidden_dim=32,\n",
        ").to(device)\n",
        "criterion = nn.CrossEntropyLoss()\n",
        "optimizer = optim.Adam(better_bow_model.parameters(), lr=0.01)\n",
        "loss_history = []"
      ],
      "execution_count": 0,
      "outputs": []
    },
    {
      "cell_type": "code",
      "metadata": {
        "id": "4K85iDF8hTTp",
        "colab_type": "code",
        "colab": {
          "base_uri": "https://localhost:8080/",
          "height": 67,
          "referenced_widgets": [
            "9460cd2c530b446e9b8db037647857f0",
            "05a2dadb32ae48469b139a271e9561ff",
            "66685bc146b24e48a7b5266f0680b858",
            "ea83ae2ff47e4c64a34c3e5b31621730",
            "25aad87d5e154d5fa8b8e9d82fc10354",
            "95a5b1bc78bd4e34abf562913869b6dc",
            "c84a7605b1604e09b252c5863a6de9a8",
            "02a0162af015443aa041e29c7b0c6daf"
          ]
        },
        "outputId": "e893b15f-aff3-4728-b516-4366fe286a84"
      },
      "source": [
        "better_bow_model.train()\n",
        "for epoch in tqdm.tqdm_notebook(range(NUM_EPOCHS)):\n",
        "    for batch_text, batch_labels in train_dataloader:\n",
        "        preds = better_bow_model(batch_text.to(device))\n",
        "        loss = criterion(preds, batch_labels.to(device))\n",
        "        loss.backward()\n",
        "        optimizer.step()\n",
        "        optimizer.zero_grad()\n",
        "        loss_history.append(loss.item())"
      ],
      "execution_count": 51,
      "outputs": [
        {
          "output_type": "display_data",
          "data": {
            "application/vnd.jupyter.widget-view+json": {
              "model_id": "9460cd2c530b446e9b8db037647857f0",
              "version_minor": 0,
              "version_major": 2
            },
            "text/plain": [
              "HBox(children=(IntProgress(value=0, max=10), HTML(value='')))"
            ]
          },
          "metadata": {
            "tags": []
          }
        },
        {
          "output_type": "stream",
          "text": [
            "\n"
          ],
          "name": "stdout"
        }
      ]
    },
    {
      "cell_type": "code",
      "metadata": {
        "id": "5Zm7SWg0mTfe",
        "colab_type": "code",
        "colab": {
          "base_uri": "https://localhost:8080/",
          "height": 283
        },
        "outputId": "51c6c6b8-24be-4f93-bcdc-503b8b329cf4"
      },
      "source": [
        "pd.Series(loss_history).plot()"
      ],
      "execution_count": 52,
      "outputs": [
        {
          "output_type": "execute_result",
          "data": {
            "text/plain": [
              "<matplotlib.axes._subplots.AxesSubplot at 0x7f5ad010a860>"
            ]
          },
          "metadata": {
            "tags": []
          },
          "execution_count": 52
        },
        {
          "output_type": "display_data",
          "data": {
            "image/png": "[encoded data removed]",
            "text/plain": [
              "<Figure size 432x288 with 1 Axes>"
            ]
          },
          "metadata": {
            "tags": []
          }
        }
      ]
    },
    {
      "cell_type": "code",
      "metadata": {
        "id": "wj_wW1-chTTr",
        "colab_type": "code",
        "colab": {
          "base_uri": "https://localhost:8080/",
          "height": 35
        },
        "outputId": "61ed7543-4ecc-4b0b-fa82-9a1ea61cf15c"
      },
      "source": [
        "preds = run_inference(better_bow_model, test_dataloader, test_labels, device)\n",
        "(test_labels==preds.argmax(-1)).mean()"
      ],
      "execution_count": 53,
      "outputs": [
        {
          "output_type": "execute_result",
          "data": {
            "text/plain": [
              "0.818"
            ]
          },
          "metadata": {
            "tags": []
          },
          "execution_count": 53
        }
      ]
    },
    {
      "cell_type": "markdown",
      "metadata": {
        "id": "nrDcfd4chTTv",
        "colab_type": "text"
      },
      "source": [
        "There's no guarantee that a more complex model works better!\n",
        "\n",
        "Also, our current model is still pretty simple: it simply averages the word embeddings, and so it completely discards the word-order information. We will soon learn about modern deep learning models that address this."
      ]
    },
    {
      "cell_type": "code",
      "metadata": {
        "id": "kT-uARvFoQO-",
        "colab_type": "code",
        "colab": {}
      },
      "source": [
        ""
      ],
      "execution_count": 0,
      "outputs": []
    }
  ]
}